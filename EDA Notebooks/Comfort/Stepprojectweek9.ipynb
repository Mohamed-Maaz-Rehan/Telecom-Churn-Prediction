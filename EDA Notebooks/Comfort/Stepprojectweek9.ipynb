{
 "cells": [
  {
   "cell_type": "code",
   "execution_count": 2,
   "id": "3f26c1f2-3c58-4b52-a79f-3c2f9170f095",
   "metadata": {},
   "outputs": [],
   "source": [
    "import pandas as pd\n",
    "import numpy as np\n",
    "import matplotlib.pyplot as plt\n",
    "import seaborn as sns\n",
    "from sklearn.linear_model import LogisticRegression\n",
    "from sklearn.tree import DecisionTreeClassifier\n",
    "from sklearn.ensemble import RandomForestClassifier\n",
    "from sklearn.svm import SVC as SVM\n",
    "from sklearn.neighbors import KNeighborsClassifier\n",
    "from sklearn.preprocessing import StandardScaler\n",
    "from sklearn.model_selection import train_test_split\n",
    "from sklearn.metrics import accuracy_score\n",
    "from sklearn.ensemble import AdaBoostClassifier, GradientBoostingClassifier, RandomForestClassifier, BaggingClassifier\n"
   ]
  },
  {
   "cell_type": "code",
   "execution_count": 5,
   "id": "319f4574-97a2-411e-a8c1-f896f5b23998",
   "metadata": {},
   "outputs": [],
   "source": [
    "df = pd.read_csv(\"telecom.csv\")"
   ]
  },
  {
   "cell_type": "code",
   "execution_count": 6,
   "id": "5a1f79c4-b531-406d-bb8a-80d3fe9f9c90",
   "metadata": {},
   "outputs": [],
   "source": [
    "df.drop(columns = ['tenure', 'customerID'],inplace = True)"
   ]
  },
  {
   "cell_type": "code",
   "execution_count": 7,
   "id": "2a631d93-3686-4470-a651-e3e091175ed6",
   "metadata": {},
   "outputs": [],
   "source": [
    "df = df.replace({\n",
    "    'PhoneService': {'Yes': 1, 'No': 0},\n",
    "    'Partner': {'Yes': 1, 'No': 0},\n",
    "    'gender': {'Female': 1, 'Male': 0},\n",
    "    'Dependents': {'Yes': 1, 'No': 0}, \n",
    "    'MultipleLines': {'Yes': 1, 'No': 0, 'No phone service': 2},\n",
    "    'InternetService': {'DSL': 1, 'Fiber optic':2, 'No':0},\n",
    "    'OnlineSecurity': {'Yes': 1, 'No': 0, 'No internet service': 2},\n",
    "    'OnlineBackup': {'Yes': 1, 'No': 0, 'No internet service': 2},\n",
    "    'DeviceProtection': {'Yes': 1, 'No': 0, 'No internet service': 2},\n",
    "    'TechSupport': {'Yes': 1, 'No': 0, 'No internet service': 2},\n",
    "    'StreamingTV': {'Yes': 1, 'No': 0, 'No internet service': 2},\n",
    "    'StreamingMovies': {'Yes': 1, 'No': 0, 'No internet service': 2},\n",
    "    'Contract':{'Month-to-month':1, 'One year': 0, 'Two year':2},\n",
    "    'PaperlessBilling':{'Yes': 1, 'No': 0},\n",
    "    'PaymentMethod':{'Electronic check':1, 'Mailed check':0, 'Bank transfer (automatic)': 2, 'Credit card (automatic)': 3},\n",
    "    'Churn':{'Yes':1, 'No':0}\n",
    "    \n",
    "})"
   ]
  },
  {
   "cell_type": "code",
   "execution_count": 8,
   "id": "248e10c5-5bb7-456d-a951-c42002fe6e80",
   "metadata": {},
   "outputs": [],
   "source": [
    "df['PhoneService'] = df['PhoneService'].astype(int)\n",
    "df['Partner'] = df['Partner'].astype(int)\n",
    "df['gender'] = df['gender'].astype(int)\n",
    "df['Dependents'] = df['Dependents'].astype(int)\n",
    "df['MultipleLines'] = df['MultipleLines'].astype(int)\n",
    "df['OnlineSecurity'] = df['OnlineSecurity'].astype(int)\n",
    "df['OnlineBackup'] = df['OnlineBackup'].astype(int)\n",
    "df['DeviceProtection'] = df['DeviceProtection'].astype(int)\n",
    "df['TechSupport'] = df['TechSupport'].astype(int)\n",
    "df['StreamingTV'] = df['StreamingTV'].astype(int)\n",
    "df['StreamingMovies'] = df['StreamingMovies'].astype(int)\n",
    "df['Contract'] = df['Contract'].astype(int)\n",
    "df['PaperlessBilling'] = df['PaperlessBilling'].astype(int)\n",
    "df['PaymentMethod'] = df['PaymentMethod'].astype(int)\n",
    "df['Churn'] = df['Churn'].astype(int)"
   ]
  },
  {
   "cell_type": "code",
   "execution_count": null,
   "id": "d1841b53-cf0c-47c2-b0b1-d2f1e8ff379f",
   "metadata": {
    "scrolled": true
   },
   "outputs": [],
   "source": [
    "df.info()"
   ]
  },
  {
   "cell_type": "code",
   "execution_count": null,
   "id": "087eb6b2-150a-4203-a4d3-87ef9f8d1aa4",
   "metadata": {},
   "outputs": [],
   "source": [
    "df.isnull().sum()"
   ]
  },
  {
   "cell_type": "code",
   "execution_count": 9,
   "id": "eb02feaa-dbb4-4e84-abc9-88d5b8f49417",
   "metadata": {},
   "outputs": [],
   "source": [
    "df['TotalCharges'] = df['TotalCharges'].replace(' ', np.nan)\n",
    "df['TotalCharges'] = df['TotalCharges'].astype(float)\n",
    "df.fillna(df[\"TotalCharges\"].mean(),inplace=True)"
   ]
  },
  {
   "cell_type": "code",
   "execution_count": 10,
   "id": "6a47b337-0116-461e-87d3-f002bdc990f2",
   "metadata": {},
   "outputs": [],
   "source": [
    "X_col = df.columns[df.columns != 'Churn'].tolist()\n",
    "y_col = 'Churn'\n",
    "X = df[X_col]\n",
    "y = df[y_col]\n",
    "X_train, X_test, y_train, y_test = train_test_split(X, y, test_size=0.3, random_state=42)\n",
    "scaler = StandardScaler()\n",
    "knn = KNeighborsClassifier(n_neighbors=5)\n",
    "X_train_scaled = scaler.fit_transform(X_train)\n",
    "X_test_scaled = scaler.transform(X_test)\n"
   ]
  },
  {
   "cell_type": "code",
   "execution_count": 17,
   "id": "84c32f3a-9562-42d6-81bc-5fa8e17c169d",
   "metadata": {},
   "outputs": [
    {
     "name": "stdout",
     "output_type": "stream",
     "text": [
      "Logistic Regression: Accuracy = 0.81\n",
      "Decision Tree: Accuracy = 0.73\n",
      "Random Forest: Accuracy = 0.79\n",
      "Support Vector Machine: Accuracy = 0.80\n",
      "K-Nearest Neighbors: Accuracy = 0.76\n"
     ]
    }
   ],
   "source": [
    "models = {\n",
    "    'Logistic Regression': LogisticRegression(),\n",
    "    'Decision Tree': DecisionTreeClassifier(),\n",
    "    'Random Forest': RandomForestClassifier(),\n",
    "    'Support Vector Machine': SVM(),\n",
    "    'K-Nearest Neighbors': KNeighborsClassifier()\n",
    "}\n",
    "\n",
    "# Train and evaluate models\n",
    "results = {}\n",
    "for name, model in models.items():\n",
    "    model.fit(X_train_scaled, y_train)\n",
    "    y_pred = model.predict(X_test_scaled)\n",
    "    accuracy = accuracy_score(y_test, y_pred)\n",
    "    results[name] = accuracy\n",
    "\n",
    "# Display results\n",
    "for name, accuracy in results.items():\n",
    "    print(f'{name}: Accuracy = {accuracy:.2f}')"
   ]
  },
  {
   "cell_type": "code",
   "execution_count": null,
   "id": "8df58dc8-82a7-4ce4-87d7-4905e53a6452",
   "metadata": {},
   "outputs": [],
   "source": [
    "#Using Esembling techniques to improve model accuracy"
   ]
  },
  {
   "cell_type": "code",
   "execution_count": 18,
   "id": "8aa8702a-dc3e-4985-bf0c-25485281e595",
   "metadata": {},
   "outputs": [
    {
     "name": "stdout",
     "output_type": "stream",
     "text": [
      "AdaBoostClassifier Accuracy: 0.8069096071935636\n",
      "GradientBoostingClassifier Accuracy: 0.8026502602934217\n",
      "RandomForestClassifier Accuracy: 0.7946048272598202\n",
      "BaggingClassifier Accuracy: 0.783719829626124\n"
     ]
    }
   ],
   "source": [
    "\n",
    "ada = AdaBoostClassifier(n_estimators=100, random_state=42)\n",
    "ada.fit(X_train, y_train)\n",
    "\n",
    "\n",
    "gb = GradientBoostingClassifier(n_estimators=100, random_state=42)\n",
    "gb.fit(X_train, y_train)\n",
    "\n",
    "rf = RandomForestClassifier(n_estimators=100, random_state=42)\n",
    "rf.fit(X_train, y_train)\n",
    "\n",
    "bagging = BaggingClassifier(n_estimators=100, random_state=42)\n",
    "bagging.fit(X_train, y_train)\n",
    "\n",
    "adaboost_pred = ada.predict(X_test)\n",
    "\n",
    "\n",
    "gb_pred = gb.predict(X_test)\n",
    "rf_pred = rf.predict(X_test)\n",
    "\n",
    "bagging_pred = bagging.predict(X_test)\n",
    "# Accuracy scores\n",
    "ada_accuracy = accuracy_score(y_test, adaboost_pred)\n",
    "gb_accuracy = accuracy_score(y_test, gb_pred)\n",
    "rf_accuracy = accuracy_score(y_test, rf_pred)\n",
    "bagging_accuracy = accuracy_score(y_test, bagging_pred)\n",
    "\n",
    "print(\"AdaBoostClassifier Accuracy:\", ada_accuracy)\n",
    "print(\"GradientBoostingClassifier Accuracy:\", gb_accuracy)\n",
    "print(\"RandomForestClassifier Accuracy:\", rf_accuracy)\n",
    "print(\"BaggingClassifier Accuracy:\", bagging_accuracy)"
   ]
  },
  {
   "cell_type": "code",
   "execution_count": null,
   "id": "191323f2-c02b-4e07-a0c6-431ecc9a49c5",
   "metadata": {},
   "outputs": [],
   "source": []
  }
 ],
 "metadata": {
  "kernelspec": {
   "display_name": "Python 3 (ipykernel)",
   "language": "python",
   "name": "python3"
  },
  "language_info": {
   "codemirror_mode": {
    "name": "ipython",
    "version": 3
   },
   "file_extension": ".py",
   "mimetype": "text/x-python",
   "name": "python",
   "nbconvert_exporter": "python",
   "pygments_lexer": "ipython3",
   "version": "3.11.7"
  }
 },
 "nbformat": 4,
 "nbformat_minor": 5
}
