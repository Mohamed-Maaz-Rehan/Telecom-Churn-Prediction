{
 "cells": [
  {
   "cell_type": "code",
   "execution_count": 1,
   "id": "635d7fe8",
   "metadata": {},
   "outputs": [],
   "source": [
    "import pandas as pd\n",
    "import numpy as np\n",
    "import seaborn as sns\n",
    "import matplotlib.pyplot as plt\n",
    "from sklearn.preprocessing import MinMaxScaler\n",
    "from sklearn.model_selection import train_test_split\n",
    "from sklearn.tree import DecisionTreeClassifier\n",
    "from sklearn.metrics import classification_report"
   ]
  },
  {
   "cell_type": "code",
   "execution_count": 2,
   "id": "35e1d41d",
   "metadata": {},
   "outputs": [],
   "source": [
    "import warnings\n",
    "warnings.filterwarnings('ignore')"
   ]
  },
  {
   "cell_type": "code",
   "execution_count": 3,
   "id": "03d85dc4",
   "metadata": {},
   "outputs": [
    {
     "ename": "FileNotFoundError",
     "evalue": "[Errno 2] No such file or directory: 'telecom.csv'",
     "output_type": "error",
     "traceback": [
      "\u001b[1;31m---------------------------------------------------------------------------\u001b[0m",
      "\u001b[1;31mFileNotFoundError\u001b[0m                         Traceback (most recent call last)",
      "Cell \u001b[1;32mIn[3], line 1\u001b[0m\n\u001b[1;32m----> 1\u001b[0m df\u001b[38;5;241m=\u001b[39m pd\u001b[38;5;241m.\u001b[39mread_csv(\u001b[38;5;124m'\u001b[39m\u001b[38;5;124mtelecom.csv\u001b[39m\u001b[38;5;124m'\u001b[39m)\n\u001b[0;32m      2\u001b[0m df\n",
      "File \u001b[1;32mC:\\ProgramData\\anaconda3\\Lib\\site-packages\\pandas\\io\\parsers\\readers.py:912\u001b[0m, in \u001b[0;36mread_csv\u001b[1;34m(filepath_or_buffer, sep, delimiter, header, names, index_col, usecols, dtype, engine, converters, true_values, false_values, skipinitialspace, skiprows, skipfooter, nrows, na_values, keep_default_na, na_filter, verbose, skip_blank_lines, parse_dates, infer_datetime_format, keep_date_col, date_parser, date_format, dayfirst, cache_dates, iterator, chunksize, compression, thousands, decimal, lineterminator, quotechar, quoting, doublequote, escapechar, comment, encoding, encoding_errors, dialect, on_bad_lines, delim_whitespace, low_memory, memory_map, float_precision, storage_options, dtype_backend)\u001b[0m\n\u001b[0;32m    899\u001b[0m kwds_defaults \u001b[38;5;241m=\u001b[39m _refine_defaults_read(\n\u001b[0;32m    900\u001b[0m     dialect,\n\u001b[0;32m    901\u001b[0m     delimiter,\n\u001b[1;32m   (...)\u001b[0m\n\u001b[0;32m    908\u001b[0m     dtype_backend\u001b[38;5;241m=\u001b[39mdtype_backend,\n\u001b[0;32m    909\u001b[0m )\n\u001b[0;32m    910\u001b[0m kwds\u001b[38;5;241m.\u001b[39mupdate(kwds_defaults)\n\u001b[1;32m--> 912\u001b[0m \u001b[38;5;28;01mreturn\u001b[39;00m _read(filepath_or_buffer, kwds)\n",
      "File \u001b[1;32mC:\\ProgramData\\anaconda3\\Lib\\site-packages\\pandas\\io\\parsers\\readers.py:577\u001b[0m, in \u001b[0;36m_read\u001b[1;34m(filepath_or_buffer, kwds)\u001b[0m\n\u001b[0;32m    574\u001b[0m _validate_names(kwds\u001b[38;5;241m.\u001b[39mget(\u001b[38;5;124m\"\u001b[39m\u001b[38;5;124mnames\u001b[39m\u001b[38;5;124m\"\u001b[39m, \u001b[38;5;28;01mNone\u001b[39;00m))\n\u001b[0;32m    576\u001b[0m \u001b[38;5;66;03m# Create the parser.\u001b[39;00m\n\u001b[1;32m--> 577\u001b[0m parser \u001b[38;5;241m=\u001b[39m TextFileReader(filepath_or_buffer, \u001b[38;5;241m*\u001b[39m\u001b[38;5;241m*\u001b[39mkwds)\n\u001b[0;32m    579\u001b[0m \u001b[38;5;28;01mif\u001b[39;00m chunksize \u001b[38;5;129;01mor\u001b[39;00m iterator:\n\u001b[0;32m    580\u001b[0m     \u001b[38;5;28;01mreturn\u001b[39;00m parser\n",
      "File \u001b[1;32mC:\\ProgramData\\anaconda3\\Lib\\site-packages\\pandas\\io\\parsers\\readers.py:1407\u001b[0m, in \u001b[0;36mTextFileReader.__init__\u001b[1;34m(self, f, engine, **kwds)\u001b[0m\n\u001b[0;32m   1404\u001b[0m     \u001b[38;5;28mself\u001b[39m\u001b[38;5;241m.\u001b[39moptions[\u001b[38;5;124m\"\u001b[39m\u001b[38;5;124mhas_index_names\u001b[39m\u001b[38;5;124m\"\u001b[39m] \u001b[38;5;241m=\u001b[39m kwds[\u001b[38;5;124m\"\u001b[39m\u001b[38;5;124mhas_index_names\u001b[39m\u001b[38;5;124m\"\u001b[39m]\n\u001b[0;32m   1406\u001b[0m \u001b[38;5;28mself\u001b[39m\u001b[38;5;241m.\u001b[39mhandles: IOHandles \u001b[38;5;241m|\u001b[39m \u001b[38;5;28;01mNone\u001b[39;00m \u001b[38;5;241m=\u001b[39m \u001b[38;5;28;01mNone\u001b[39;00m\n\u001b[1;32m-> 1407\u001b[0m \u001b[38;5;28mself\u001b[39m\u001b[38;5;241m.\u001b[39m_engine \u001b[38;5;241m=\u001b[39m \u001b[38;5;28mself\u001b[39m\u001b[38;5;241m.\u001b[39m_make_engine(f, \u001b[38;5;28mself\u001b[39m\u001b[38;5;241m.\u001b[39mengine)\n",
      "File \u001b[1;32mC:\\ProgramData\\anaconda3\\Lib\\site-packages\\pandas\\io\\parsers\\readers.py:1661\u001b[0m, in \u001b[0;36mTextFileReader._make_engine\u001b[1;34m(self, f, engine)\u001b[0m\n\u001b[0;32m   1659\u001b[0m     \u001b[38;5;28;01mif\u001b[39;00m \u001b[38;5;124m\"\u001b[39m\u001b[38;5;124mb\u001b[39m\u001b[38;5;124m\"\u001b[39m \u001b[38;5;129;01mnot\u001b[39;00m \u001b[38;5;129;01min\u001b[39;00m mode:\n\u001b[0;32m   1660\u001b[0m         mode \u001b[38;5;241m+\u001b[39m\u001b[38;5;241m=\u001b[39m \u001b[38;5;124m\"\u001b[39m\u001b[38;5;124mb\u001b[39m\u001b[38;5;124m\"\u001b[39m\n\u001b[1;32m-> 1661\u001b[0m \u001b[38;5;28mself\u001b[39m\u001b[38;5;241m.\u001b[39mhandles \u001b[38;5;241m=\u001b[39m get_handle(\n\u001b[0;32m   1662\u001b[0m     f,\n\u001b[0;32m   1663\u001b[0m     mode,\n\u001b[0;32m   1664\u001b[0m     encoding\u001b[38;5;241m=\u001b[39m\u001b[38;5;28mself\u001b[39m\u001b[38;5;241m.\u001b[39moptions\u001b[38;5;241m.\u001b[39mget(\u001b[38;5;124m\"\u001b[39m\u001b[38;5;124mencoding\u001b[39m\u001b[38;5;124m\"\u001b[39m, \u001b[38;5;28;01mNone\u001b[39;00m),\n\u001b[0;32m   1665\u001b[0m     compression\u001b[38;5;241m=\u001b[39m\u001b[38;5;28mself\u001b[39m\u001b[38;5;241m.\u001b[39moptions\u001b[38;5;241m.\u001b[39mget(\u001b[38;5;124m\"\u001b[39m\u001b[38;5;124mcompression\u001b[39m\u001b[38;5;124m\"\u001b[39m, \u001b[38;5;28;01mNone\u001b[39;00m),\n\u001b[0;32m   1666\u001b[0m     memory_map\u001b[38;5;241m=\u001b[39m\u001b[38;5;28mself\u001b[39m\u001b[38;5;241m.\u001b[39moptions\u001b[38;5;241m.\u001b[39mget(\u001b[38;5;124m\"\u001b[39m\u001b[38;5;124mmemory_map\u001b[39m\u001b[38;5;124m\"\u001b[39m, \u001b[38;5;28;01mFalse\u001b[39;00m),\n\u001b[0;32m   1667\u001b[0m     is_text\u001b[38;5;241m=\u001b[39mis_text,\n\u001b[0;32m   1668\u001b[0m     errors\u001b[38;5;241m=\u001b[39m\u001b[38;5;28mself\u001b[39m\u001b[38;5;241m.\u001b[39moptions\u001b[38;5;241m.\u001b[39mget(\u001b[38;5;124m\"\u001b[39m\u001b[38;5;124mencoding_errors\u001b[39m\u001b[38;5;124m\"\u001b[39m, \u001b[38;5;124m\"\u001b[39m\u001b[38;5;124mstrict\u001b[39m\u001b[38;5;124m\"\u001b[39m),\n\u001b[0;32m   1669\u001b[0m     storage_options\u001b[38;5;241m=\u001b[39m\u001b[38;5;28mself\u001b[39m\u001b[38;5;241m.\u001b[39moptions\u001b[38;5;241m.\u001b[39mget(\u001b[38;5;124m\"\u001b[39m\u001b[38;5;124mstorage_options\u001b[39m\u001b[38;5;124m\"\u001b[39m, \u001b[38;5;28;01mNone\u001b[39;00m),\n\u001b[0;32m   1670\u001b[0m )\n\u001b[0;32m   1671\u001b[0m \u001b[38;5;28;01massert\u001b[39;00m \u001b[38;5;28mself\u001b[39m\u001b[38;5;241m.\u001b[39mhandles \u001b[38;5;129;01mis\u001b[39;00m \u001b[38;5;129;01mnot\u001b[39;00m \u001b[38;5;28;01mNone\u001b[39;00m\n\u001b[0;32m   1672\u001b[0m f \u001b[38;5;241m=\u001b[39m \u001b[38;5;28mself\u001b[39m\u001b[38;5;241m.\u001b[39mhandles\u001b[38;5;241m.\u001b[39mhandle\n",
      "File \u001b[1;32mC:\\ProgramData\\anaconda3\\Lib\\site-packages\\pandas\\io\\common.py:859\u001b[0m, in \u001b[0;36mget_handle\u001b[1;34m(path_or_buf, mode, encoding, compression, memory_map, is_text, errors, storage_options)\u001b[0m\n\u001b[0;32m    854\u001b[0m \u001b[38;5;28;01melif\u001b[39;00m \u001b[38;5;28misinstance\u001b[39m(handle, \u001b[38;5;28mstr\u001b[39m):\n\u001b[0;32m    855\u001b[0m     \u001b[38;5;66;03m# Check whether the filename is to be opened in binary mode.\u001b[39;00m\n\u001b[0;32m    856\u001b[0m     \u001b[38;5;66;03m# Binary mode does not support 'encoding' and 'newline'.\u001b[39;00m\n\u001b[0;32m    857\u001b[0m     \u001b[38;5;28;01mif\u001b[39;00m ioargs\u001b[38;5;241m.\u001b[39mencoding \u001b[38;5;129;01mand\u001b[39;00m \u001b[38;5;124m\"\u001b[39m\u001b[38;5;124mb\u001b[39m\u001b[38;5;124m\"\u001b[39m \u001b[38;5;129;01mnot\u001b[39;00m \u001b[38;5;129;01min\u001b[39;00m ioargs\u001b[38;5;241m.\u001b[39mmode:\n\u001b[0;32m    858\u001b[0m         \u001b[38;5;66;03m# Encoding\u001b[39;00m\n\u001b[1;32m--> 859\u001b[0m         handle \u001b[38;5;241m=\u001b[39m \u001b[38;5;28mopen\u001b[39m(\n\u001b[0;32m    860\u001b[0m             handle,\n\u001b[0;32m    861\u001b[0m             ioargs\u001b[38;5;241m.\u001b[39mmode,\n\u001b[0;32m    862\u001b[0m             encoding\u001b[38;5;241m=\u001b[39mioargs\u001b[38;5;241m.\u001b[39mencoding,\n\u001b[0;32m    863\u001b[0m             errors\u001b[38;5;241m=\u001b[39merrors,\n\u001b[0;32m    864\u001b[0m             newline\u001b[38;5;241m=\u001b[39m\u001b[38;5;124m\"\u001b[39m\u001b[38;5;124m\"\u001b[39m,\n\u001b[0;32m    865\u001b[0m         )\n\u001b[0;32m    866\u001b[0m     \u001b[38;5;28;01melse\u001b[39;00m:\n\u001b[0;32m    867\u001b[0m         \u001b[38;5;66;03m# Binary mode\u001b[39;00m\n\u001b[0;32m    868\u001b[0m         handle \u001b[38;5;241m=\u001b[39m \u001b[38;5;28mopen\u001b[39m(handle, ioargs\u001b[38;5;241m.\u001b[39mmode)\n",
      "\u001b[1;31mFileNotFoundError\u001b[0m: [Errno 2] No such file or directory: 'telecom.csv'"
     ]
    }
   ],
   "source": [
    "df= pd.read_csv('telecom.csv')\n",
    "df"
   ]
  },
  {
   "cell_type": "code",
   "execution_count": null,
   "id": "e267d7cd",
   "metadata": {},
   "outputs": [],
   "source": [
    "df.sample(5)"
   ]
  },
  {
   "cell_type": "code",
   "execution_count": null,
   "id": "c6402fc8",
   "metadata": {},
   "outputs": [],
   "source": [
    "df.shape"
   ]
  },
  {
   "cell_type": "code",
   "execution_count": null,
   "id": "48f6a065",
   "metadata": {
    "scrolled": true
   },
   "outputs": [],
   "source": [
    "df.info()"
   ]
  },
  {
   "cell_type": "code",
   "execution_count": null,
   "id": "36d12f52",
   "metadata": {},
   "outputs": [],
   "source": [
    "df.columns = df.columns.str.lower()"
   ]
  },
  {
   "cell_type": "code",
   "execution_count": null,
   "id": "cd30d6a2",
   "metadata": {},
   "outputs": [],
   "source": [
    "df.columns"
   ]
  },
  {
   "cell_type": "code",
   "execution_count": null,
   "id": "39948a58",
   "metadata": {},
   "outputs": [],
   "source": [
    "df.drop(columns=['customerid'],inplace=True)"
   ]
  },
  {
   "cell_type": "code",
   "execution_count": null,
   "id": "ed0cece5",
   "metadata": {
    "scrolled": true
   },
   "outputs": [],
   "source": [
    "df.columns"
   ]
  },
  {
   "cell_type": "code",
   "execution_count": null,
   "id": "ab73fc75",
   "metadata": {},
   "outputs": [],
   "source": [
    "#replacing ' ' empty values with nan\n",
    "df['totalcharges'] = df['totalcharges'].replace(' ', np.nan).astype(float)"
   ]
  },
  {
   "cell_type": "code",
   "execution_count": null,
   "id": "56de8f44",
   "metadata": {
    "scrolled": true
   },
   "outputs": [],
   "source": [
    "df.describe()"
   ]
  },
  {
   "cell_type": "code",
   "execution_count": null,
   "id": "c446f804",
   "metadata": {},
   "outputs": [],
   "source": [
    "df['churn'].value_counts()"
   ]
  },
  {
   "cell_type": "markdown",
   "id": "569678f7",
   "metadata": {},
   "source": [
    "Data is highly imbalanced"
   ]
  },
  {
   "cell_type": "code",
   "execution_count": null,
   "id": "9c928d85",
   "metadata": {},
   "outputs": [],
   "source": [
    "100*df['churn'].value_counts()/len(df['churn'])"
   ]
  },
  {
   "cell_type": "markdown",
   "id": "1390c7ca",
   "metadata": {},
   "source": [
    "74% of the Churn data is \"No\" and 26% is \"Yes\""
   ]
  },
  {
   "cell_type": "code",
   "execution_count": null,
   "id": "a576c572",
   "metadata": {
    "scrolled": true
   },
   "outputs": [],
   "source": [
    "df.select_dtypes(include=['object']).shape"
   ]
  },
  {
   "cell_type": "code",
   "execution_count": null,
   "id": "039fba96",
   "metadata": {},
   "outputs": [],
   "source": [
    "df.select_dtypes(include=['float64','int64']).shape"
   ]
  },
  {
   "cell_type": "code",
   "execution_count": null,
   "id": "2b39e806",
   "metadata": {
    "scrolled": false
   },
   "outputs": [],
   "source": [
    "df.isnull().sum()"
   ]
  },
  {
   "cell_type": "markdown",
   "id": "c285a46d",
   "metadata": {},
   "source": [
    "11 null values in Total Charges"
   ]
  },
  {
   "cell_type": "code",
   "execution_count": null,
   "id": "11344f38",
   "metadata": {},
   "outputs": [],
   "source": [
    "df.loc[df ['totalcharges'].isnull() == True]"
   ]
  },
  {
   "cell_type": "code",
   "execution_count": null,
   "id": "98c2f486",
   "metadata": {
    "scrolled": true
   },
   "outputs": [],
   "source": [
    "#missing value ratio\n",
    "(11/7044)*100"
   ]
  },
  {
   "cell_type": "code",
   "execution_count": null,
   "id": "eac78bec",
   "metadata": {},
   "outputs": [],
   "source": [
    "#Removing missing values \n",
    "df.dropna(how = 'any', inplace = True)"
   ]
  },
  {
   "cell_type": "code",
   "execution_count": null,
   "id": "b07734b9",
   "metadata": {},
   "outputs": [],
   "source": [
    "df_updated = df.copy()"
   ]
  },
  {
   "cell_type": "markdown",
   "id": "3db81e74",
   "metadata": {},
   "source": [
    " Now Dividing customers into bins based on tenure e.g. for tenure < 12 months: assign a tenure group if 1-12, for tenure between 1 to 2 Yrs, tenure group of 13-24; so on..."
   ]
  },
  {
   "cell_type": "code",
   "execution_count": null,
   "id": "61125d1a",
   "metadata": {},
   "outputs": [],
   "source": [
    "# Get the max tenure\n",
    "print(df_updated['tenure'].max())"
   ]
  },
  {
   "cell_type": "code",
   "execution_count": null,
   "id": "8d66a30d",
   "metadata": {},
   "outputs": [],
   "source": [
    "# # Group the tenure in bins of 12 months\n",
    "# labels = [\"{0} - {1}\".format(i, i + 11) for i in range(1, 72, 12)]\n",
    "\n",
    "# df_updated['tenure_group'] = pd.cut(df_updated.tenure, range(1, 80, 12), right=False, labels=labels)"
   ]
  },
  {
   "cell_type": "code",
   "execution_count": null,
   "id": "a131fa19",
   "metadata": {
    "scrolled": true
   },
   "outputs": [],
   "source": [
    "# df_updated['tenure_group'].value_counts()"
   ]
  },
  {
   "cell_type": "code",
   "execution_count": null,
   "id": "22d0b2e8",
   "metadata": {},
   "outputs": [],
   "source": [
    "#null value is dropped\n",
    "df.isnull().sum()"
   ]
  },
  {
   "cell_type": "code",
   "execution_count": null,
   "id": "e3249815",
   "metadata": {},
   "outputs": [],
   "source": [
    "# Check for any duplicated rows\n",
    "print(\"\\nNumber of duplicated rows before cleaning:\", df.duplicated().sum())"
   ]
  },
  {
   "cell_type": "code",
   "execution_count": null,
   "id": "bf2e1d0c",
   "metadata": {},
   "outputs": [],
   "source": [
    "# Remove duplicated rows\n",
    "df = df.drop_duplicates()"
   ]
  },
  {
   "cell_type": "code",
   "execution_count": null,
   "id": "f00e3610",
   "metadata": {},
   "outputs": [],
   "source": [
    "# Check for any duplicated rows after cleaning\n",
    "print(\"Number of duplicated rows after cleaning:\", df.duplicated().sum())"
   ]
  },
  {
   "cell_type": "code",
   "execution_count": null,
   "id": "8e5a2e7b",
   "metadata": {
    "scrolled": false
   },
   "outputs": [],
   "source": [
    "sns.histplot(df['totalcharges'],kde=True)\n"
   ]
  },
  {
   "cell_type": "markdown",
   "id": "524eee43",
   "metadata": {},
   "source": [
    "The ‘totalcharges’ data is right-skewed, indicating most customers have lower charges. The distribution peaks on the left, showing a large number of customers with low charges. As charges increase, customer frequency decreases. A long tail on the right suggests a few customers have very high charges, but they are relatively rare."
   ]
  },
  {
   "cell_type": "code",
   "execution_count": null,
   "id": "2c992e14",
   "metadata": {
    "scrolled": false
   },
   "outputs": [],
   "source": [
    "sns.boxplot(df['totalcharges'],orient='h')"
   ]
  },
  {
   "cell_type": "code",
   "execution_count": null,
   "id": "bd5e98c9",
   "metadata": {
    "scrolled": true
   },
   "outputs": [],
   "source": [
    "sns.countplot(x = df['gender'])\n",
    "plt.title('Telecom Churn Gender')\n",
    "plt.show()"
   ]
  },
  {
   "cell_type": "markdown",
   "id": "ef85bd8b",
   "metadata": {},
   "source": [
    "# Data Exploration"
   ]
  },
  {
   "cell_type": "markdown",
   "id": "db31bd69",
   "metadata": {},
   "source": [
    "# Univariate Analysis\n",
    "1. Plot distibution of individual predictors by churn"
   ]
  },
  {
   "cell_type": "code",
   "execution_count": null,
   "id": "8cf923fd",
   "metadata": {},
   "outputs": [],
   "source": [
    "for i, predictor in enumerate(df.drop(columns=['churn', 'totalcharges', 'monthlycharges'])):\n",
    "    plt.figure(i)\n",
    "    sns.countplot(data=df, x=predictor, hue='churn')"
   ]
  },
  {
   "cell_type": "markdown",
   "id": "5bd93d8e",
   "metadata": {},
   "source": [
    "2. Convert the target variable 'Churn' in a binary numeric variable i.e. Yes=1 ; No = 0"
   ]
  },
  {
   "cell_type": "code",
   "execution_count": null,
   "id": "f423a689",
   "metadata": {},
   "outputs": [],
   "source": [
    "df_updated['churn'] = np.where(df_updated.churn == 'Yes',1,0)"
   ]
  },
  {
   "cell_type": "code",
   "execution_count": null,
   "id": "6267b80d",
   "metadata": {
    "scrolled": true
   },
   "outputs": [],
   "source": [
    "df_updated.head()"
   ]
  },
  {
   "cell_type": "code",
   "execution_count": null,
   "id": "a50e01fa",
   "metadata": {},
   "outputs": [],
   "source": [
    "# Convert all the categorical variables into dummy variables\n",
    "df_updated_dummies = pd.get_dummies(df_updated)\n",
    "df_updated_dummies.head()"
   ]
  },
  {
   "cell_type": "code",
   "execution_count": null,
   "id": "d2287dbd",
   "metadata": {},
   "outputs": [],
   "source": [
    "# Churn by Monthly charges\n",
    "Mth = sns.kdeplot(df_updated_dummies.monthlycharges[(df_updated_dummies[\"churn\"] == 0) ],\n",
    "                color=\"Red\", shade = True)\n",
    "Mth = sns.kdeplot(df_updated_dummies.monthlycharges[(df_updated_dummies[\"churn\"] == 1) ],\n",
    "                ax =Mth, color=\"Blue\", shade= True)\n",
    "Mth.legend([\"No Churn\",\"Churn\"],loc='upper right')\n",
    "Mth.set_ylabel('Density')\n",
    "Mth.set_xlabel('Monthly Charges')\n",
    "Mth.set_title('Monthly charges by churn')"
   ]
  },
  {
   "cell_type": "markdown",
   "id": "787b4116",
   "metadata": {},
   "source": [
    "Churn is high when Monthly Charges ar high"
   ]
  },
  {
   "cell_type": "code",
   "execution_count": null,
   "id": "ddb562c3",
   "metadata": {},
   "outputs": [],
   "source": [
    "# Churn by Total charges\n",
    "Mth = sns.kdeplot(df_updated_dummies.totalcharges[(df_updated_dummies[\"churn\"] == 0) ],\n",
    "                color=\"Red\", shade = True)\n",
    "Mth = sns.kdeplot(df_updated_dummies.totalcharges[(df_updated_dummies[\"churn\"] == 1) ],\n",
    "                ax =Mth, color=\"Blue\", shade= True)\n",
    "Mth.legend([\"No Churn\",\"Churn\"],loc='upper right')\n",
    "Mth.set_ylabel('Density')\n",
    "Mth.set_xlabel('Total Charges')\n",
    "Mth.set_title('Total charges by churn')"
   ]
  },
  {
   "cell_type": "markdown",
   "id": "7e670d4c",
   "metadata": {},
   "source": [
    "increased Churn at reduced Total Charges\n",
    "Nonetheless, the picture becomes somewhat clearer when we combine the insights of the three criteria, namely tenure, monthly charges, and total charges:A higher monthly charge at a shorter tenure equals a lower total charge. Therefore, there is a correlation between high churn and all three of these factors: a higher monthly charge, a lower tenure, and a lower total charge."
   ]
  },
  {
   "cell_type": "code",
   "execution_count": null,
   "id": "13f7fe14",
   "metadata": {},
   "outputs": [],
   "source": [
    "plt.figure(figsize=(19,7))\n",
    "df_updated_dummies.corr()['churn'].sort_values(ascending = False).plot(kind='bar')"
   ]
  },
  {
   "cell_type": "markdown",
   "id": "969f3952",
   "metadata": {},
   "source": [
    " HIGH Churn seen in case of Month to month contracts, No online security, No Tech support, First year of subscription and Fibre Optics Internet\n",
    "\n",
    "LOW Churn is seens in case of Long term contracts, Subscriptions without internet service and The customers engaged for 5+ years\n",
    "\n",
    "Factors like Gender, Availability of PhoneService and of multiple lines have alomost NO impact on Churn\n",
    "\n",
    "This is also evident from the Heatmap below\n"
   ]
  },
  {
   "cell_type": "code",
   "execution_count": null,
   "id": "5490bf7c",
   "metadata": {
    "scrolled": true
   },
   "outputs": [],
   "source": [
    "plt.figure(figsize=(10,10))\n",
    "sns.heatmap(df_updated_dummies.corr(), cmap=\"Paired\")"
   ]
  },
  {
   "cell_type": "markdown",
   "id": "1af26c3c",
   "metadata": {},
   "source": [
    "# bivariate analysis"
   ]
  },
  {
   "cell_type": "code",
   "execution_count": null,
   "id": "38e11d77",
   "metadata": {},
   "outputs": [],
   "source": [
    "new_df1_target0=df_updated.loc[df_updated[\"churn\"]==0]\n",
    "new_df1_target1=df_updated.loc[df_updated[\"churn\"]==1]"
   ]
  },
  {
   "cell_type": "code",
   "execution_count": null,
   "id": "780ba1d1",
   "metadata": {},
   "outputs": [],
   "source": [
    "def uniplot(df,col,title,hue =None):\n",
    "    \n",
    "    sns.set_style('whitegrid')\n",
    "    sns.set_context('talk')\n",
    "    plt.rcParams[\"axes.labelsize\"] = 20\n",
    "    plt.rcParams['axes.titlesize'] = 22\n",
    "    plt.rcParams['axes.titlepad'] = 30\n",
    "    \n",
    "    \n",
    "    temp = pd.Series(data = hue)\n",
    "    fig, ax = plt.subplots()\n",
    "    width = len(df[col].unique()) + 7 + 4*len(temp.unique())\n",
    "    fig.set_size_inches(width , 8)\n",
    "    plt.xticks(rotation=45)\n",
    "    plt.yscale('log')\n",
    "    plt.title(title)\n",
    "    ax = sns.countplot(data = df, x= col, order=df[col].value_counts().index,hue = hue,palette='bright') \n",
    "        \n",
    "    plt.show()"
   ]
  },
  {
   "cell_type": "code",
   "execution_count": null,
   "id": "4cd0664d",
   "metadata": {},
   "outputs": [],
   "source": [
    "uniplot(new_df1_target1,col='partner',title='Distribution of Gender for Churned Customers',hue='gender')"
   ]
  },
  {
   "cell_type": "code",
   "execution_count": null,
   "id": "d374dc07",
   "metadata": {
    "scrolled": false
   },
   "outputs": [],
   "source": [
    "uniplot(new_df1_target0,col='partner',title='Distribution of Gender for Non Churned Customers',hue='gender')"
   ]
  },
  {
   "cell_type": "code",
   "execution_count": null,
   "id": "098f7a43",
   "metadata": {},
   "outputs": [],
   "source": [
    "uniplot(new_df1_target1,col='paymentmethod',title='Distribution of PaymentMethod for Churned Customers',hue='gender')"
   ]
  },
  {
   "cell_type": "code",
   "execution_count": null,
   "id": "70518f8a",
   "metadata": {},
   "outputs": [],
   "source": [
    "uniplot(new_df1_target1,col='contract',title='Distribution of Contract for Churned Customers',hue='gender')"
   ]
  },
  {
   "cell_type": "code",
   "execution_count": null,
   "id": "5f5717af",
   "metadata": {},
   "outputs": [],
   "source": [
    "uniplot(new_df1_target1,col='techsupport',title='Distribution of TechSupport for Churned Customers',hue='gender')"
   ]
  },
  {
   "cell_type": "code",
   "execution_count": null,
   "id": "43752504",
   "metadata": {
    "scrolled": true
   },
   "outputs": [],
   "source": [
    "uniplot(new_df1_target1,col='seniorcitizen',title='Distribution of SeniorCitizen for Churned Customers',hue='gender')"
   ]
  },
  {
   "cell_type": "markdown",
   "id": "1bc80f43",
   "metadata": {},
   "source": [
    "Electronic check medium are the highest churners\n",
    "\n",
    "Contract Type - Monthly customers are more likely to churn because of no contract terms, as they are free to go customers.\n",
    "\n",
    "No Online security, No Tech Support category are high churners\n",
    "\n",
    "Non senior Citizens are high churners"
   ]
  },
  {
   "cell_type": "code",
   "execution_count": null,
   "id": "6bab85c5",
   "metadata": {},
   "outputs": [],
   "source": [
    "\n",
    "sns.scatterplot(x='monthlycharges', y='totalcharges',data=df)"
   ]
  },
  {
   "cell_type": "markdown",
   "id": "fb61b0a0",
   "metadata": {},
   "source": [
    "Total Charges Increase as Monthly charges Increases"
   ]
  },
  {
   "cell_type": "code",
   "execution_count": null,
   "id": "76e7fd87",
   "metadata": {},
   "outputs": [],
   "source": [
    "#selecting only categorical column\n",
    "cat_cols = df.select_dtypes(include=['object']).columns\n",
    "cat_cols"
   ]
  },
  {
   "cell_type": "code",
   "execution_count": null,
   "id": "0eabe399",
   "metadata": {},
   "outputs": [],
   "source": [
    "#dropping out target column from categorical\n",
    "cat_cols = cat_cols.drop('churn')"
   ]
  },
  {
   "cell_type": "code",
   "execution_count": null,
   "id": "82fcdb68",
   "metadata": {},
   "outputs": [],
   "source": [
    "cat_cols"
   ]
  },
  {
   "cell_type": "code",
   "execution_count": null,
   "id": "86d9d01c",
   "metadata": {},
   "outputs": [],
   "source": [
    "sns.histplot(df['monthlycharges'],kde=True)"
   ]
  },
  {
   "cell_type": "code",
   "execution_count": null,
   "id": "8a5534e7",
   "metadata": {},
   "outputs": [],
   "source": [
    "sns.histplot(df['tenure'],kde=True)\n"
   ]
  },
  {
   "cell_type": "code",
   "execution_count": null,
   "id": "f4887428",
   "metadata": {
    "scrolled": true
   },
   "outputs": [],
   "source": [
    "# Plot count plots for categorical columns\n",
    "plt.figure(figsize=(25, 12))\n",
    "sns.countplot(x='churn', data=df)\n",
    "plt.title('Distribution of Categorical columns')\n",
    "plt.show()"
   ]
  },
  {
   "cell_type": "markdown",
   "id": "6fcf3e95",
   "metadata": {},
   "source": [
    "Data is disimbalanced so we will have to balance the data later"
   ]
  },
  {
   "cell_type": "code",
   "execution_count": null,
   "id": "a8936eae",
   "metadata": {},
   "outputs": [],
   "source": [
    "# Assuming 'Yes' is encoded as 1 and 'No' as 0 (instead of Hot-coding)\n",
    "df_updated['gender'] = df_updated['gender'].replace({'Female': 0,'Male': 1})\n",
    "df_updated['partner'] = df_updated['partner'].replace({'Yes': 1, 'No': 0})\n",
    "df_updated['phoneservice'] = df_updated['phoneservice'].replace({'Yes': 1, 'No': 0})\n",
    "df_updated['dependents'] = df_updated['dependents'].replace({'Yes': 1, 'No': 0})\n",
    "df_updated['multiplelines'] = df_updated['multiplelines'].replace({'Yes': 1, 'No': 0, 'No phone service':2})\n",
    "df_updated['internetservice'] = df_updated['internetservice'].replace({'DSL': 1, 'Fiber optic': 2,'No':0})\n",
    "df_updated['onlinesecurity'] = df_updated['onlinesecurity'].replace({'Yes': 1, 'No': 0, 'No internet service': 0})\n",
    "df_updated['onlinebackup'] = df_updated['onlinebackup'].replace({'Yes': 1, 'No': 0, 'No internet service': 0})\n",
    "df_updated['deviceprotection'] = df_updated['deviceprotection'].replace({'Yes': 1, 'No': 0, 'No internet service': 0})\n",
    "df_updated['techsupport'] = df_updated['techsupport'].replace({'Yes': 1, 'No': 0, 'No internet service': 0})\n",
    "df_updated['streamingtv'] = df_updated['streamingtv'].replace({'Yes': 1, 'No': 0, 'No internet service': 0})\n",
    "df_updated['streamingmovies'] = df_updated['streamingmovies'].replace({'Yes': 1, 'No': 0, 'No internet service': 0})\n",
    "df_updated['contract'] = df_updated['contract'].replace({'Month-to-month': 1, 'One year': 0, 'Two year': 0})\n",
    "df_updated['paperlessbilling'] = df_updated['paperlessbilling'].replace({'Yes': 1, 'No': 0})\n",
    "df_updated['paymentmethod'] = df_updated['paymentmethod'].replace({'Electronic check': 1, 'Mailed check': 0, 'Bank transfer (automatic)':2,'Credit card (automatic)':3})\n",
    "df_updated['churn'] = df_updated['churn'].replace({'Yes': 1, 'No': 0})\n"
   ]
  },
  {
   "cell_type": "code",
   "execution_count": null,
   "id": "e940e3d3",
   "metadata": {
    "scrolled": false
   },
   "outputs": [],
   "source": [
    "df_updated.sample(10)"
   ]
  },
  {
   "cell_type": "code",
   "execution_count": null,
   "id": "ab3002fc",
   "metadata": {},
   "outputs": [],
   "source": [
    "df.tenure.describe()"
   ]
  },
  {
   "cell_type": "code",
   "execution_count": null,
   "id": "92a306b3",
   "metadata": {},
   "outputs": [],
   "source": [
    "df.select_dtypes(include=['object']).columns"
   ]
  },
  {
   "cell_type": "code",
   "execution_count": null,
   "id": "e089b55d",
   "metadata": {},
   "outputs": [],
   "source": [
    "df.churn.unique()"
   ]
  },
  {
   "cell_type": "code",
   "execution_count": null,
   "id": "593b2a27",
   "metadata": {},
   "outputs": [],
   "source": [
    "# Calculate correlation matrix\n",
    "correlation_matrix = df_updated[['phoneservice', 'multiplelines', 'internetservice', 'churn']].corr()"
   ]
  },
  {
   "cell_type": "code",
   "execution_count": null,
   "id": "9871deb6",
   "metadata": {
    "scrolled": true
   },
   "outputs": [],
   "source": [
    "# Create heatmap\n",
    "plt.figure(figsize=(10, 8))\n",
    "sns.heatmap(correlation_matrix, annot=True, cmap='coolwarm', fmt=\".2f\", linewidths=0.5)\n",
    "plt.title('Heatmap of PhoneService, MultipleLines, InternetService, and Churn')\n",
    "plt.show()\n"
   ]
  },
  {
   "cell_type": "code",
   "execution_count": null,
   "id": "c5c71289",
   "metadata": {},
   "outputs": [],
   "source": [
    "# Calculate correlation matrix\n",
    "correlation_matrix_cats = df_updated[['gender', 'partner', 'dependents', 'phoneservice', 'multiplelines',\n",
    "       'internetservice', 'onlinesecurity', 'onlinebackup', 'deviceprotection',\n",
    "       'techsupport', 'streamingtv', 'streamingmovies', 'contract',\n",
    "       'paperlessbilling', 'paymentmethod', 'churn']].corr()"
   ]
  },
  {
   "cell_type": "code",
   "execution_count": null,
   "id": "5dc83249",
   "metadata": {},
   "outputs": [],
   "source": [
    "# Create heatmap for categorical data\n",
    "plt.figure(figsize=(20, 9))\n",
    "sns.heatmap(correlation_matrix_cats, annot=True, cmap='coolwarm', fmt=\".2f\", linewidths=0.5)\n",
    "plt.title('Heatmap of PhoneService, MultipleLines, InternetService, and Churn')\n",
    "plt.show()"
   ]
  },
  {
   "cell_type": "code",
   "execution_count": null,
   "id": "94d0eddc",
   "metadata": {},
   "outputs": [],
   "source": [
    "num_cols = df.select_dtypes(include=['float64', 'int64','int32']).columns\n",
    "for column in num_cols:\n",
    "    unique_values = df[column].unique()\n",
    "    print(f\"Column '{column}': {unique_values}\")"
   ]
  },
  {
   "cell_type": "code",
   "execution_count": null,
   "id": "48303ced",
   "metadata": {},
   "outputs": [],
   "source": []
  },
  {
   "cell_type": "code",
   "execution_count": null,
   "id": "139637fc",
   "metadata": {},
   "outputs": [],
   "source": [
    "# Assigning feature variable to X\n",
    "x = df_updated.drop(['churn'], axis=1)\n",
    "\n",
    "x.head()"
   ]
  },
  {
   "cell_type": "code",
   "execution_count": null,
   "id": "ec0d543e",
   "metadata": {},
   "outputs": [],
   "source": [
    "y = df_updated['churn']\n",
    "\n",
    "y.head()"
   ]
  },
  {
   "cell_type": "markdown",
   "id": "72e1a51e",
   "metadata": {},
   "source": [
    "# Train Test Split"
   ]
  },
  {
   "cell_type": "code",
   "execution_count": null,
   "id": "e5481a4e",
   "metadata": {},
   "outputs": [],
   "source": [
    "x_train,x_test,y_train,y_test=train_test_split(x,y,test_size=0.2)"
   ]
  },
  {
   "cell_type": "markdown",
   "id": "2f7a8c38",
   "metadata": {},
   "source": [
    "# Decision Tree Classifier"
   ]
  },
  {
   "cell_type": "code",
   "execution_count": null,
   "id": "95d0208b",
   "metadata": {},
   "outputs": [],
   "source": [
    "model_dt=DecisionTreeClassifier(criterion = \"gini\",random_state = 100,max_depth=6, min_samples_leaf=8)"
   ]
  },
  {
   "cell_type": "code",
   "execution_count": null,
   "id": "e0f4eb9b",
   "metadata": {},
   "outputs": [],
   "source": [
    "model_dt.fit(x_train,y_train)"
   ]
  },
  {
   "cell_type": "code",
   "execution_count": null,
   "id": "94f2e624",
   "metadata": {},
   "outputs": [],
   "source": [
    "y_pred=model_dt.predict(x_test)\n",
    "y_pred"
   ]
  },
  {
   "cell_type": "code",
   "execution_count": null,
   "id": "837eee15",
   "metadata": {},
   "outputs": [],
   "source": [
    "model_dt.score(x_test,y_test)"
   ]
  },
  {
   "cell_type": "code",
   "execution_count": null,
   "id": "06d15bca",
   "metadata": {},
   "outputs": [],
   "source": [
    "print(classification_report(y_test, y_pred, labels=[0,1]))"
   ]
  },
  {
   "cell_type": "markdown",
   "id": "1652873f",
   "metadata": {},
   "source": [
    "As you can see that the accuracy is quite low, and as it's an imbalanced dataset, we shouldn't consider Accuracy as our metrics to measure the model, as Accuracy is cursed in imbalanced datasets.\n",
    "Hence, we need to check recall, precision & f1 score for the minority class, and it's quite evident that the precision, recall & f1 score is too low for Class 1, i.e. churned customers."
   ]
  },
  {
   "cell_type": "code",
   "execution_count": null,
   "id": "107ab473",
   "metadata": {},
   "outputs": [],
   "source": []
  },
  {
   "cell_type": "code",
   "execution_count": null,
   "id": "eb65c728",
   "metadata": {},
   "outputs": [],
   "source": []
  }
 ],
 "metadata": {
  "kernelspec": {
   "display_name": "Python 3 (ipykernel)",
   "language": "python",
   "name": "python3"
  },
  "language_info": {
   "codemirror_mode": {
    "name": "ipython",
    "version": 3
   },
   "file_extension": ".py",
   "mimetype": "text/x-python",
   "name": "python",
   "nbconvert_exporter": "python",
   "pygments_lexer": "ipython3",
   "version": "3.11.5"
  }
 },
 "nbformat": 4,
 "nbformat_minor": 5
}
