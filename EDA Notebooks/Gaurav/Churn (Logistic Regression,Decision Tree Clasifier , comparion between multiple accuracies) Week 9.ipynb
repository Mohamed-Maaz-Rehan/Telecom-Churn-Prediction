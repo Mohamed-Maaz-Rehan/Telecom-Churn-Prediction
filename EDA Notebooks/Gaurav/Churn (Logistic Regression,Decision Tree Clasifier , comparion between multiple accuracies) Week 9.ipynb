{
 "cells": [
  {
   "cell_type": "code",
   "execution_count": 1,
   "id": "spiritual-candy",
   "metadata": {
    "_cell_guid": "b1076dfc-b9ad-4769-8c92-a6c4dae69d19",
    "_uuid": "8f2839f25d086af736a60e9eeb907d3b93b6e0e5",
    "execution": {
     "iopub.execute_input": "2021-06-29T09:02:46.219388Z",
     "iopub.status.busy": "2021-06-29T09:02:46.218774Z",
     "iopub.status.idle": "2021-06-29T09:02:48.542138Z",
     "shell.execute_reply": "2021-06-29T09:02:48.542687Z",
     "shell.execute_reply.started": "2021-06-29T08:55:19.913161Z"
    },
    "papermill": {
     "duration": 2.421865,
     "end_time": "2021-06-29T09:02:48.542982",
     "exception": false,
     "start_time": "2021-06-29T09:02:46.121117",
     "status": "completed"
    },
    "tags": []
   },
   "outputs": [],
   "source": [
    "import pandas as pd\n",
    "import numpy as np\n",
    "import missingno as msno\n",
    "import matplotlib.pyplot as plt\n",
    "import seaborn as sns\n",
    "import plotly.express as px\n",
    "import plotly.graph_objects as go\n",
    "from plotly.subplots import make_subplots\n",
    "import warnings\n",
    "warnings.filterwarnings('ignore')"
   ]
  },
  {
   "cell_type": "code",
   "execution_count": 2,
   "id": "failing-consolidation",
   "metadata": {
    "execution": {
     "iopub.execute_input": "2021-06-29T09:02:48.723347Z",
     "iopub.status.busy": "2021-06-29T09:02:48.722671Z",
     "iopub.status.idle": "2021-06-29T09:02:49.349604Z",
     "shell.execute_reply": "2021-06-29T09:02:49.349047Z",
     "shell.execute_reply.started": "2021-06-29T08:55:22.284433Z"
    },
    "papermill": {
     "duration": 0.720873,
     "end_time": "2021-06-29T09:02:49.349754",
     "exception": false,
     "start_time": "2021-06-29T09:02:48.628881",
     "status": "completed"
    },
    "tags": []
   },
   "outputs": [],
   "source": [
    "from sklearn.preprocessing import StandardScaler\n",
    "from sklearn.preprocessing import LabelEncoder\n",
    "\n",
    "from sklearn.tree import DecisionTreeClassifier\n",
    "from sklearn.ensemble import RandomForestClassifier\n",
    "from sklearn.naive_bayes import GaussianNB\n",
    "from sklearn.neighbors import KNeighborsClassifier\n",
    "from sklearn.svm import SVC\n",
    "from sklearn.neural_network import MLPClassifier\n",
    "from sklearn.ensemble import AdaBoostClassifier\n",
    "from sklearn.ensemble import GradientBoostingClassifier\n",
    "from sklearn.ensemble import ExtraTreesClassifier\n",
    "from sklearn.linear_model import LogisticRegression\n",
    "from sklearn.model_selection import train_test_split\n",
    "from sklearn.metrics import accuracy_score\n",
    "from xgboost import XGBClassifier\n",
    "from catboost import CatBoostClassifier\n",
    "from sklearn import metrics\n",
    "from sklearn.metrics import roc_curve\n",
    "from sklearn.metrics import recall_score, confusion_matrix, precision_score, f1_score, accuracy_score, classification_report"
   ]
  },
  {
   "cell_type": "code",
   "execution_count": 3,
   "id": "hidden-flash",
   "metadata": {
    "execution": {
     "iopub.execute_input": "2021-06-29T09:02:49.525459Z",
     "iopub.status.busy": "2021-06-29T09:02:49.524816Z",
     "iopub.status.idle": "2021-06-29T09:02:49.586294Z",
     "shell.execute_reply": "2021-06-29T09:02:49.585732Z",
     "shell.execute_reply.started": "2021-06-29T08:55:22.965654Z"
    },
    "papermill": {
     "duration": 0.151159,
     "end_time": "2021-06-29T09:02:49.586502",
     "exception": false,
     "start_time": "2021-06-29T09:02:49.435343",
     "status": "completed"
    },
    "tags": []
   },
   "outputs": [],
   "source": [
    "#loading data\n",
    "df = pd.read_csv('telecom.csv')"
   ]
  },
  {
   "cell_type": "markdown",
   "id": "fleet-literacy",
   "metadata": {
    "execution": {
     "iopub.execute_input": "2021-06-15T05:44:20.072466Z",
     "iopub.status.busy": "2021-06-15T05:44:20.072025Z",
     "iopub.status.idle": "2021-06-15T05:44:20.084216Z",
     "shell.execute_reply": "2021-06-15T05:44:20.083141Z",
     "shell.execute_reply.started": "2021-06-15T05:44:20.072376Z"
    },
    "papermill": {
     "duration": 0.085872,
     "end_time": "2021-06-29T09:02:50.104207",
     "exception": false,
     "start_time": "2021-06-29T09:02:50.018335",
     "status": "completed"
    },
    "tags": []
   },
   "source": [
    "Each row represents a customer, each column contains customer’s attributes described on the column Metadata."
   ]
  },
  {
   "cell_type": "code",
   "execution_count": 4,
   "id": "literary-proof",
   "metadata": {
    "execution": {
     "iopub.execute_input": "2021-06-29T09:02:50.300506Z",
     "iopub.status.busy": "2021-06-29T09:02:50.299841Z",
     "iopub.status.idle": "2021-06-29T09:02:50.329567Z",
     "shell.execute_reply": "2021-06-29T09:02:50.329060Z",
     "shell.execute_reply.started": "2021-06-29T08:55:23.025094Z"
    },
    "papermill": {
     "duration": 0.136188,
     "end_time": "2021-06-29T09:02:50.329704",
     "exception": false,
     "start_time": "2021-06-29T09:02:50.193516",
     "status": "completed"
    },
    "tags": []
   },
   "outputs": [
    {
     "data": {
      "text/html": [
       "<div>\n",
       "<style scoped>\n",
       "    .dataframe tbody tr th:only-of-type {\n",
       "        vertical-align: middle;\n",
       "    }\n",
       "\n",
       "    .dataframe tbody tr th {\n",
       "        vertical-align: top;\n",
       "    }\n",
       "\n",
       "    .dataframe thead th {\n",
       "        text-align: right;\n",
       "    }\n",
       "</style>\n",
       "<table border=\"1\" class=\"dataframe\">\n",
       "  <thead>\n",
       "    <tr style=\"text-align: right;\">\n",
       "      <th></th>\n",
       "      <th>customerID</th>\n",
       "      <th>gender</th>\n",
       "      <th>SeniorCitizen</th>\n",
       "      <th>Partner</th>\n",
       "      <th>Dependents</th>\n",
       "      <th>tenure</th>\n",
       "      <th>PhoneService</th>\n",
       "      <th>MultipleLines</th>\n",
       "      <th>InternetService</th>\n",
       "      <th>OnlineSecurity</th>\n",
       "      <th>...</th>\n",
       "      <th>DeviceProtection</th>\n",
       "      <th>TechSupport</th>\n",
       "      <th>StreamingTV</th>\n",
       "      <th>StreamingMovies</th>\n",
       "      <th>Contract</th>\n",
       "      <th>PaperlessBilling</th>\n",
       "      <th>PaymentMethod</th>\n",
       "      <th>MonthlyCharges</th>\n",
       "      <th>TotalCharges</th>\n",
       "      <th>Churn</th>\n",
       "    </tr>\n",
       "  </thead>\n",
       "  <tbody>\n",
       "    <tr>\n",
       "      <th>0</th>\n",
       "      <td>7590-VHVEG</td>\n",
       "      <td>Female</td>\n",
       "      <td>0</td>\n",
       "      <td>Yes</td>\n",
       "      <td>No</td>\n",
       "      <td>1</td>\n",
       "      <td>No</td>\n",
       "      <td>No phone service</td>\n",
       "      <td>DSL</td>\n",
       "      <td>No</td>\n",
       "      <td>...</td>\n",
       "      <td>No</td>\n",
       "      <td>No</td>\n",
       "      <td>No</td>\n",
       "      <td>No</td>\n",
       "      <td>Month-to-month</td>\n",
       "      <td>Yes</td>\n",
       "      <td>Electronic check</td>\n",
       "      <td>29.85</td>\n",
       "      <td>29.85</td>\n",
       "      <td>No</td>\n",
       "    </tr>\n",
       "    <tr>\n",
       "      <th>1</th>\n",
       "      <td>5575-GNVDE</td>\n",
       "      <td>Male</td>\n",
       "      <td>0</td>\n",
       "      <td>No</td>\n",
       "      <td>No</td>\n",
       "      <td>34</td>\n",
       "      <td>Yes</td>\n",
       "      <td>No</td>\n",
       "      <td>DSL</td>\n",
       "      <td>Yes</td>\n",
       "      <td>...</td>\n",
       "      <td>Yes</td>\n",
       "      <td>No</td>\n",
       "      <td>No</td>\n",
       "      <td>No</td>\n",
       "      <td>One year</td>\n",
       "      <td>No</td>\n",
       "      <td>Mailed check</td>\n",
       "      <td>56.95</td>\n",
       "      <td>1889.5</td>\n",
       "      <td>No</td>\n",
       "    </tr>\n",
       "    <tr>\n",
       "      <th>2</th>\n",
       "      <td>3668-QPYBK</td>\n",
       "      <td>Male</td>\n",
       "      <td>0</td>\n",
       "      <td>No</td>\n",
       "      <td>No</td>\n",
       "      <td>2</td>\n",
       "      <td>Yes</td>\n",
       "      <td>No</td>\n",
       "      <td>DSL</td>\n",
       "      <td>Yes</td>\n",
       "      <td>...</td>\n",
       "      <td>No</td>\n",
       "      <td>No</td>\n",
       "      <td>No</td>\n",
       "      <td>No</td>\n",
       "      <td>Month-to-month</td>\n",
       "      <td>Yes</td>\n",
       "      <td>Mailed check</td>\n",
       "      <td>53.85</td>\n",
       "      <td>108.15</td>\n",
       "      <td>Yes</td>\n",
       "    </tr>\n",
       "    <tr>\n",
       "      <th>3</th>\n",
       "      <td>7795-CFOCW</td>\n",
       "      <td>Male</td>\n",
       "      <td>0</td>\n",
       "      <td>No</td>\n",
       "      <td>No</td>\n",
       "      <td>45</td>\n",
       "      <td>No</td>\n",
       "      <td>No phone service</td>\n",
       "      <td>DSL</td>\n",
       "      <td>Yes</td>\n",
       "      <td>...</td>\n",
       "      <td>Yes</td>\n",
       "      <td>Yes</td>\n",
       "      <td>No</td>\n",
       "      <td>No</td>\n",
       "      <td>One year</td>\n",
       "      <td>No</td>\n",
       "      <td>Bank transfer (automatic)</td>\n",
       "      <td>42.30</td>\n",
       "      <td>1840.75</td>\n",
       "      <td>No</td>\n",
       "    </tr>\n",
       "    <tr>\n",
       "      <th>4</th>\n",
       "      <td>9237-HQITU</td>\n",
       "      <td>Female</td>\n",
       "      <td>0</td>\n",
       "      <td>No</td>\n",
       "      <td>No</td>\n",
       "      <td>2</td>\n",
       "      <td>Yes</td>\n",
       "      <td>No</td>\n",
       "      <td>Fiber optic</td>\n",
       "      <td>No</td>\n",
       "      <td>...</td>\n",
       "      <td>No</td>\n",
       "      <td>No</td>\n",
       "      <td>No</td>\n",
       "      <td>No</td>\n",
       "      <td>Month-to-month</td>\n",
       "      <td>Yes</td>\n",
       "      <td>Electronic check</td>\n",
       "      <td>70.70</td>\n",
       "      <td>151.65</td>\n",
       "      <td>Yes</td>\n",
       "    </tr>\n",
       "  </tbody>\n",
       "</table>\n",
       "<p>5 rows × 21 columns</p>\n",
       "</div>"
      ],
      "text/plain": [
       "   customerID  gender  SeniorCitizen Partner Dependents  tenure PhoneService  \\\n",
       "0  7590-VHVEG  Female              0     Yes         No       1           No   \n",
       "1  5575-GNVDE    Male              0      No         No      34          Yes   \n",
       "2  3668-QPYBK    Male              0      No         No       2          Yes   \n",
       "3  7795-CFOCW    Male              0      No         No      45           No   \n",
       "4  9237-HQITU  Female              0      No         No       2          Yes   \n",
       "\n",
       "      MultipleLines InternetService OnlineSecurity  ... DeviceProtection  \\\n",
       "0  No phone service             DSL             No  ...               No   \n",
       "1                No             DSL            Yes  ...              Yes   \n",
       "2                No             DSL            Yes  ...               No   \n",
       "3  No phone service             DSL            Yes  ...              Yes   \n",
       "4                No     Fiber optic             No  ...               No   \n",
       "\n",
       "  TechSupport StreamingTV StreamingMovies        Contract PaperlessBilling  \\\n",
       "0          No          No              No  Month-to-month              Yes   \n",
       "1          No          No              No        One year               No   \n",
       "2          No          No              No  Month-to-month              Yes   \n",
       "3         Yes          No              No        One year               No   \n",
       "4          No          No              No  Month-to-month              Yes   \n",
       "\n",
       "               PaymentMethod MonthlyCharges  TotalCharges Churn  \n",
       "0           Electronic check          29.85         29.85    No  \n",
       "1               Mailed check          56.95        1889.5    No  \n",
       "2               Mailed check          53.85        108.15   Yes  \n",
       "3  Bank transfer (automatic)          42.30       1840.75    No  \n",
       "4           Electronic check          70.70        151.65   Yes  \n",
       "\n",
       "[5 rows x 21 columns]"
      ]
     },
     "execution_count": 4,
     "metadata": {},
     "output_type": "execute_result"
    }
   ],
   "source": [
    "df.head()"
   ]
  },
  {
   "cell_type": "markdown",
   "id": "waiting-pharmaceutical",
   "metadata": {
    "papermill": {
     "duration": 0.0862,
     "end_time": "2021-06-29T09:02:50.503013",
     "exception": false,
     "start_time": "2021-06-29T09:02:50.416813",
     "status": "completed"
    },
    "tags": []
   },
   "source": [
    "**The data set includes information about:**\n",
    "* **Customers who left within the last month** – the column is called Churn\n",
    "\n",
    "* **Services that each customer has signed up for** – phone, multiple lines, internet, online security, online backup, device protection, tech support, and streaming TV and movies\n",
    "\n",
    "* **Customer account information** - how long they’ve been a customer, contract, payment method, paperless billing, monthly charges, and total charges\n",
    "\n",
    "* **Demographic info about customers** – gender, age range, and if they have partners and dependents"
   ]
  },
  {
   "cell_type": "code",
   "execution_count": 5,
   "id": "macro-replication",
   "metadata": {
    "execution": {
     "iopub.execute_input": "2021-06-29T09:02:50.681202Z",
     "iopub.status.busy": "2021-06-29T09:02:50.680538Z",
     "iopub.status.idle": "2021-06-29T09:02:50.683672Z",
     "shell.execute_reply": "2021-06-29T09:02:50.683068Z",
     "shell.execute_reply.started": "2021-06-29T08:55:23.072763Z"
    },
    "papermill": {
     "duration": 0.094226,
     "end_time": "2021-06-29T09:02:50.683804",
     "exception": false,
     "start_time": "2021-06-29T09:02:50.589578",
     "status": "completed"
    },
    "tags": []
   },
   "outputs": [
    {
     "data": {
      "text/plain": [
       "(7043, 21)"
      ]
     },
     "execution_count": 5,
     "metadata": {},
     "output_type": "execute_result"
    }
   ],
   "source": [
    "df.shape"
   ]
  },
  {
   "cell_type": "code",
   "execution_count": 6,
   "id": "complicated-norman",
   "metadata": {
    "execution": {
     "iopub.execute_input": "2021-06-29T09:02:50.876535Z",
     "iopub.status.busy": "2021-06-29T09:02:50.875484Z",
     "iopub.status.idle": "2021-06-29T09:02:50.894635Z",
     "shell.execute_reply": "2021-06-29T09:02:50.895202Z",
     "shell.execute_reply.started": "2021-06-29T08:55:23.078824Z"
    },
    "papermill": {
     "duration": 0.124616,
     "end_time": "2021-06-29T09:02:50.895466",
     "exception": false,
     "start_time": "2021-06-29T09:02:50.770850",
     "status": "completed"
    },
    "tags": []
   },
   "outputs": [
    {
     "name": "stdout",
     "output_type": "stream",
     "text": [
      "<class 'pandas.core.frame.DataFrame'>\n",
      "RangeIndex: 7043 entries, 0 to 7042\n",
      "Data columns (total 21 columns):\n",
      " #   Column            Non-Null Count  Dtype  \n",
      "---  ------            --------------  -----  \n",
      " 0   customerID        7043 non-null   object \n",
      " 1   gender            7043 non-null   object \n",
      " 2   SeniorCitizen     7043 non-null   int64  \n",
      " 3   Partner           7043 non-null   object \n",
      " 4   Dependents        7043 non-null   object \n",
      " 5   tenure            7043 non-null   int64  \n",
      " 6   PhoneService      7043 non-null   object \n",
      " 7   MultipleLines     7043 non-null   object \n",
      " 8   InternetService   7043 non-null   object \n",
      " 9   OnlineSecurity    7043 non-null   object \n",
      " 10  OnlineBackup      7043 non-null   object \n",
      " 11  DeviceProtection  7043 non-null   object \n",
      " 12  TechSupport       7043 non-null   object \n",
      " 13  StreamingTV       7043 non-null   object \n",
      " 14  StreamingMovies   7043 non-null   object \n",
      " 15  Contract          7043 non-null   object \n",
      " 16  PaperlessBilling  7043 non-null   object \n",
      " 17  PaymentMethod     7043 non-null   object \n",
      " 18  MonthlyCharges    7043 non-null   float64\n",
      " 19  TotalCharges      7043 non-null   object \n",
      " 20  Churn             7043 non-null   object \n",
      "dtypes: float64(1), int64(2), object(18)\n",
      "memory usage: 1.1+ MB\n"
     ]
    }
   ],
   "source": [
    "df.info()"
   ]
  },
  {
   "cell_type": "code",
   "execution_count": 7,
   "id": "delayed-sailing",
   "metadata": {
    "execution": {
     "iopub.execute_input": "2021-06-29T09:02:51.077339Z",
     "iopub.status.busy": "2021-06-29T09:02:51.076424Z",
     "iopub.status.idle": "2021-06-29T09:02:51.081960Z",
     "shell.execute_reply": "2021-06-29T09:02:51.082415Z",
     "shell.execute_reply.started": "2021-06-29T08:55:23.123211Z"
    },
    "papermill": {
     "duration": 0.09838,
     "end_time": "2021-06-29T09:02:51.082588",
     "exception": false,
     "start_time": "2021-06-29T09:02:50.984208",
     "status": "completed"
    },
    "tags": []
   },
   "outputs": [
    {
     "data": {
      "text/plain": [
       "array(['customerID', 'gender', 'SeniorCitizen', 'Partner', 'Dependents',\n",
       "       'tenure', 'PhoneService', 'MultipleLines', 'InternetService',\n",
       "       'OnlineSecurity', 'OnlineBackup', 'DeviceProtection',\n",
       "       'TechSupport', 'StreamingTV', 'StreamingMovies', 'Contract',\n",
       "       'PaperlessBilling', 'PaymentMethod', 'MonthlyCharges',\n",
       "       'TotalCharges', 'Churn'], dtype=object)"
      ]
     },
     "execution_count": 7,
     "metadata": {},
     "output_type": "execute_result"
    }
   ],
   "source": [
    "df.columns.values"
   ]
  },
  {
   "cell_type": "code",
   "execution_count": 8,
   "id": "coral-recommendation",
   "metadata": {
    "execution": {
     "iopub.execute_input": "2021-06-29T09:02:51.265417Z",
     "iopub.status.busy": "2021-06-29T09:02:51.264418Z",
     "iopub.status.idle": "2021-06-29T09:02:51.271460Z",
     "shell.execute_reply": "2021-06-29T09:02:51.271900Z",
     "shell.execute_reply.started": "2021-06-29T08:55:23.130697Z"
    },
    "papermill": {
     "duration": 0.101852,
     "end_time": "2021-06-29T09:02:51.272069",
     "exception": false,
     "start_time": "2021-06-29T09:02:51.170217",
     "status": "completed"
    },
    "tags": []
   },
   "outputs": [
    {
     "data": {
      "text/plain": [
       "customerID           object\n",
       "gender               object\n",
       "SeniorCitizen         int64\n",
       "Partner              object\n",
       "Dependents           object\n",
       "tenure                int64\n",
       "PhoneService         object\n",
       "MultipleLines        object\n",
       "InternetService      object\n",
       "OnlineSecurity       object\n",
       "OnlineBackup         object\n",
       "DeviceProtection     object\n",
       "TechSupport          object\n",
       "StreamingTV          object\n",
       "StreamingMovies      object\n",
       "Contract             object\n",
       "PaperlessBilling     object\n",
       "PaymentMethod        object\n",
       "MonthlyCharges      float64\n",
       "TotalCharges         object\n",
       "Churn                object\n",
       "dtype: object"
      ]
     },
     "execution_count": 8,
     "metadata": {},
     "output_type": "execute_result"
    }
   ],
   "source": [
    "df.dtypes"
   ]
  },
  {
   "cell_type": "markdown",
   "id": "developed-survivor",
   "metadata": {
    "execution": {
     "iopub.execute_input": "2021-06-15T05:57:23.426034Z",
     "iopub.status.busy": "2021-06-15T05:57:23.424964Z",
     "iopub.status.idle": "2021-06-15T05:57:23.433922Z",
     "shell.execute_reply": "2021-06-15T05:57:23.432093Z",
     "shell.execute_reply.started": "2021-06-15T05:57:23.42599Z"
    },
    "papermill": {
     "duration": 0.087655,
     "end_time": "2021-06-29T09:02:51.447872",
     "exception": false,
     "start_time": "2021-06-29T09:02:51.360217",
     "status": "completed"
    },
    "tags": []
   },
   "source": [
    "\n",
    "* The target the we will use to guide the exploration is **Churn**"
   ]
  },
  {
   "cell_type": "markdown",
   "id": "b7e60988",
   "metadata": {},
   "source": [
    "# Visualizing the Data"
   ]
  },
  {
   "cell_type": "code",
   "execution_count": 9,
   "id": "insured-israeli",
   "metadata": {
    "execution": {
     "iopub.execute_input": "2021-06-29T09:02:51.981787Z",
     "iopub.status.busy": "2021-06-29T09:02:51.980787Z",
     "iopub.status.idle": "2021-06-29T09:02:52.647779Z",
     "shell.execute_reply": "2021-06-29T09:02:52.648272Z",
     "shell.execute_reply.started": "2021-06-29T08:55:23.148328Z"
    },
    "papermill": {
     "duration": 0.759173,
     "end_time": "2021-06-29T09:02:52.648460",
     "exception": false,
     "start_time": "2021-06-29T09:02:51.889287",
     "status": "completed"
    },
    "tags": []
   },
   "outputs": [
    {
     "data": {
      "image/png": "[encoded data removed]",
      "text/plain": [
       "<Figure size 2500x1000 with 2 Axes>"
      ]
     },
     "metadata": {},
     "output_type": "display_data"
    }
   ],
   "source": [
    "# Visualize missing values as a matrix\n",
    "msno.matrix(df);"
   ]
  },
  {
   "cell_type": "markdown",
   "id": "0381bd1d",
   "metadata": {},
   "source": [
    "# Data Manipulation"
   ]
  },
  {
   "cell_type": "code",
   "execution_count": 10,
   "id": "transsexual-prisoner",
   "metadata": {
    "execution": {
     "iopub.execute_input": "2021-06-29T09:02:53.400570Z",
     "iopub.status.busy": "2021-06-29T09:02:53.399875Z",
     "iopub.status.idle": "2021-06-29T09:02:53.404555Z",
     "shell.execute_reply": "2021-06-29T09:02:53.404015Z",
     "shell.execute_reply.started": "2021-06-29T08:55:23.763736Z"
    },
    "papermill": {
     "duration": 0.120918,
     "end_time": "2021-06-29T09:02:53.404705",
     "exception": false,
     "start_time": "2021-06-29T09:02:53.283787",
     "status": "completed"
    },
    "tags": []
   },
   "outputs": [
    {
     "data": {
      "text/html": [
       "<div>\n",
       "<style scoped>\n",
       "    .dataframe tbody tr th:only-of-type {\n",
       "        vertical-align: middle;\n",
       "    }\n",
       "\n",
       "    .dataframe tbody tr th {\n",
       "        vertical-align: top;\n",
       "    }\n",
       "\n",
       "    .dataframe thead th {\n",
       "        text-align: right;\n",
       "    }\n",
       "</style>\n",
       "<table border=\"1\" class=\"dataframe\">\n",
       "  <thead>\n",
       "    <tr style=\"text-align: right;\">\n",
       "      <th></th>\n",
       "      <th>gender</th>\n",
       "      <th>SeniorCitizen</th>\n",
       "      <th>Partner</th>\n",
       "      <th>Dependents</th>\n",
       "      <th>tenure</th>\n",
       "      <th>PhoneService</th>\n",
       "      <th>MultipleLines</th>\n",
       "      <th>InternetService</th>\n",
       "      <th>OnlineSecurity</th>\n",
       "      <th>OnlineBackup</th>\n",
       "      <th>DeviceProtection</th>\n",
       "      <th>TechSupport</th>\n",
       "      <th>StreamingTV</th>\n",
       "      <th>StreamingMovies</th>\n",
       "      <th>Contract</th>\n",
       "      <th>PaperlessBilling</th>\n",
       "      <th>PaymentMethod</th>\n",
       "      <th>MonthlyCharges</th>\n",
       "      <th>TotalCharges</th>\n",
       "      <th>Churn</th>\n",
       "    </tr>\n",
       "  </thead>\n",
       "  <tbody>\n",
       "    <tr>\n",
       "      <th>0</th>\n",
       "      <td>Female</td>\n",
       "      <td>0</td>\n",
       "      <td>Yes</td>\n",
       "      <td>No</td>\n",
       "      <td>1</td>\n",
       "      <td>No</td>\n",
       "      <td>No phone service</td>\n",
       "      <td>DSL</td>\n",
       "      <td>No</td>\n",
       "      <td>Yes</td>\n",
       "      <td>No</td>\n",
       "      <td>No</td>\n",
       "      <td>No</td>\n",
       "      <td>No</td>\n",
       "      <td>Month-to-month</td>\n",
       "      <td>Yes</td>\n",
       "      <td>Electronic check</td>\n",
       "      <td>29.85</td>\n",
       "      <td>29.85</td>\n",
       "      <td>No</td>\n",
       "    </tr>\n",
       "    <tr>\n",
       "      <th>1</th>\n",
       "      <td>Male</td>\n",
       "      <td>0</td>\n",
       "      <td>No</td>\n",
       "      <td>No</td>\n",
       "      <td>34</td>\n",
       "      <td>Yes</td>\n",
       "      <td>No</td>\n",
       "      <td>DSL</td>\n",
       "      <td>Yes</td>\n",
       "      <td>No</td>\n",
       "      <td>Yes</td>\n",
       "      <td>No</td>\n",
       "      <td>No</td>\n",
       "      <td>No</td>\n",
       "      <td>One year</td>\n",
       "      <td>No</td>\n",
       "      <td>Mailed check</td>\n",
       "      <td>56.95</td>\n",
       "      <td>1889.5</td>\n",
       "      <td>No</td>\n",
       "    </tr>\n",
       "    <tr>\n",
       "      <th>2</th>\n",
       "      <td>Male</td>\n",
       "      <td>0</td>\n",
       "      <td>No</td>\n",
       "      <td>No</td>\n",
       "      <td>2</td>\n",
       "      <td>Yes</td>\n",
       "      <td>No</td>\n",
       "      <td>DSL</td>\n",
       "      <td>Yes</td>\n",
       "      <td>Yes</td>\n",
       "      <td>No</td>\n",
       "      <td>No</td>\n",
       "      <td>No</td>\n",
       "      <td>No</td>\n",
       "      <td>Month-to-month</td>\n",
       "      <td>Yes</td>\n",
       "      <td>Mailed check</td>\n",
       "      <td>53.85</td>\n",
       "      <td>108.15</td>\n",
       "      <td>Yes</td>\n",
       "    </tr>\n",
       "    <tr>\n",
       "      <th>3</th>\n",
       "      <td>Male</td>\n",
       "      <td>0</td>\n",
       "      <td>No</td>\n",
       "      <td>No</td>\n",
       "      <td>45</td>\n",
       "      <td>No</td>\n",
       "      <td>No phone service</td>\n",
       "      <td>DSL</td>\n",
       "      <td>Yes</td>\n",
       "      <td>No</td>\n",
       "      <td>Yes</td>\n",
       "      <td>Yes</td>\n",
       "      <td>No</td>\n",
       "      <td>No</td>\n",
       "      <td>One year</td>\n",
       "      <td>No</td>\n",
       "      <td>Bank transfer (automatic)</td>\n",
       "      <td>42.30</td>\n",
       "      <td>1840.75</td>\n",
       "      <td>No</td>\n",
       "    </tr>\n",
       "    <tr>\n",
       "      <th>4</th>\n",
       "      <td>Female</td>\n",
       "      <td>0</td>\n",
       "      <td>No</td>\n",
       "      <td>No</td>\n",
       "      <td>2</td>\n",
       "      <td>Yes</td>\n",
       "      <td>No</td>\n",
       "      <td>Fiber optic</td>\n",
       "      <td>No</td>\n",
       "      <td>No</td>\n",
       "      <td>No</td>\n",
       "      <td>No</td>\n",
       "      <td>No</td>\n",
       "      <td>No</td>\n",
       "      <td>Month-to-month</td>\n",
       "      <td>Yes</td>\n",
       "      <td>Electronic check</td>\n",
       "      <td>70.70</td>\n",
       "      <td>151.65</td>\n",
       "      <td>Yes</td>\n",
       "    </tr>\n",
       "  </tbody>\n",
       "</table>\n",
       "</div>"
      ],
      "text/plain": [
       "   gender  SeniorCitizen Partner Dependents  tenure PhoneService  \\\n",
       "0  Female              0     Yes         No       1           No   \n",
       "1    Male              0      No         No      34          Yes   \n",
       "2    Male              0      No         No       2          Yes   \n",
       "3    Male              0      No         No      45           No   \n",
       "4  Female              0      No         No       2          Yes   \n",
       "\n",
       "      MultipleLines InternetService OnlineSecurity OnlineBackup  \\\n",
       "0  No phone service             DSL             No          Yes   \n",
       "1                No             DSL            Yes           No   \n",
       "2                No             DSL            Yes          Yes   \n",
       "3  No phone service             DSL            Yes           No   \n",
       "4                No     Fiber optic             No           No   \n",
       "\n",
       "  DeviceProtection TechSupport StreamingTV StreamingMovies        Contract  \\\n",
       "0               No          No          No              No  Month-to-month   \n",
       "1              Yes          No          No              No        One year   \n",
       "2               No          No          No              No  Month-to-month   \n",
       "3              Yes         Yes          No              No        One year   \n",
       "4               No          No          No              No  Month-to-month   \n",
       "\n",
       "  PaperlessBilling              PaymentMethod  MonthlyCharges TotalCharges  \\\n",
       "0              Yes           Electronic check           29.85        29.85   \n",
       "1               No               Mailed check           56.95       1889.5   \n",
       "2              Yes               Mailed check           53.85       108.15   \n",
       "3               No  Bank transfer (automatic)           42.30      1840.75   \n",
       "4              Yes           Electronic check           70.70       151.65   \n",
       "\n",
       "  Churn  \n",
       "0    No  \n",
       "1    No  \n",
       "2   Yes  \n",
       "3    No  \n",
       "4   Yes  "
      ]
     },
     "execution_count": 10,
     "metadata": {},
     "output_type": "execute_result"
    }
   ],
   "source": [
    "df = df.drop(['customerID'], axis = 1)\n",
    "df.head()"
   ]
  },
  {
   "cell_type": "markdown",
   "id": "leading-mississippi",
   "metadata": {
    "papermill": {
     "duration": 0.098712,
     "end_time": "2021-06-29T09:02:53.596469",
     "exception": false,
     "start_time": "2021-06-29T09:02:53.497757",
     "status": "completed"
    },
    "tags": []
   },
   "source": [
    "On deep analysis, we can find some indirect missingness in our data"
   ]
  },
  {
   "cell_type": "code",
   "execution_count": 11,
   "id": "asian-consideration",
   "metadata": {
    "execution": {
     "iopub.execute_input": "2021-06-29T09:02:53.803282Z",
     "iopub.status.busy": "2021-06-29T09:02:53.802186Z",
     "iopub.status.idle": "2021-06-29T09:02:53.834951Z",
     "shell.execute_reply": "2021-06-29T09:02:53.834396Z",
     "shell.execute_reply.started": "2021-06-29T08:55:23.791927Z"
    },
    "papermill": {
     "duration": 0.14258,
     "end_time": "2021-06-29T09:02:53.835104",
     "exception": false,
     "start_time": "2021-06-29T09:02:53.692524",
     "status": "completed"
    },
    "tags": []
   },
   "outputs": [
    {
     "data": {
      "text/plain": [
       "gender               0\n",
       "SeniorCitizen        0\n",
       "Partner              0\n",
       "Dependents           0\n",
       "tenure               0\n",
       "PhoneService         0\n",
       "MultipleLines        0\n",
       "InternetService      0\n",
       "OnlineSecurity       0\n",
       "OnlineBackup         0\n",
       "DeviceProtection     0\n",
       "TechSupport          0\n",
       "StreamingTV          0\n",
       "StreamingMovies      0\n",
       "Contract             0\n",
       "PaperlessBilling     0\n",
       "PaymentMethod        0\n",
       "MonthlyCharges       0\n",
       "TotalCharges        11\n",
       "Churn                0\n",
       "dtype: int64"
      ]
     },
     "execution_count": 11,
     "metadata": {},
     "output_type": "execute_result"
    }
   ],
   "source": [
    "df['TotalCharges'] = pd.to_numeric(df.TotalCharges, errors='coerce')\n",
    "df.isnull().sum()"
   ]
  },
  {
   "cell_type": "markdown",
   "id": "secure-concert",
   "metadata": {
    "papermill": {
     "duration": 0.092778,
     "end_time": "2021-06-29T09:02:54.070912",
     "exception": false,
     "start_time": "2021-06-29T09:02:53.978134",
     "status": "completed"
    },
    "tags": []
   },
   "source": [
    "TotalCharges has 11 missing values. "
   ]
  },
  {
   "cell_type": "code",
   "execution_count": 48,
   "id": "compressed-diving",
   "metadata": {
    "execution": {
     "iopub.execute_input": "2021-06-29T09:02:54.261646Z",
     "iopub.status.busy": "2021-06-29T09:02:54.260922Z",
     "iopub.status.idle": "2021-06-29T09:02:54.290124Z",
     "shell.execute_reply": "2021-06-29T09:02:54.290698Z",
     "shell.execute_reply.started": "2021-06-29T08:55:23.824465Z"
    },
    "papermill": {
     "duration": 0.127825,
     "end_time": "2021-06-29T09:02:54.290874",
     "exception": false,
     "start_time": "2021-06-29T09:02:54.163049",
     "status": "completed"
    },
    "tags": []
   },
   "outputs": [
    {
     "data": {
      "text/html": [
       "<div>\n",
       "<style scoped>\n",
       "    .dataframe tbody tr th:only-of-type {\n",
       "        vertical-align: middle;\n",
       "    }\n",
       "\n",
       "    .dataframe tbody tr th {\n",
       "        vertical-align: top;\n",
       "    }\n",
       "\n",
       "    .dataframe thead th {\n",
       "        text-align: right;\n",
       "    }\n",
       "</style>\n",
       "<table border=\"1\" class=\"dataframe\">\n",
       "  <thead>\n",
       "    <tr style=\"text-align: right;\">\n",
       "      <th></th>\n",
       "      <th>gender</th>\n",
       "      <th>SeniorCitizen</th>\n",
       "      <th>Partner</th>\n",
       "      <th>Dependents</th>\n",
       "      <th>tenure</th>\n",
       "      <th>PhoneService</th>\n",
       "      <th>MultipleLines</th>\n",
       "      <th>InternetService</th>\n",
       "      <th>OnlineSecurity</th>\n",
       "      <th>OnlineBackup</th>\n",
       "      <th>DeviceProtection</th>\n",
       "      <th>TechSupport</th>\n",
       "      <th>StreamingTV</th>\n",
       "      <th>StreamingMovies</th>\n",
       "      <th>Contract</th>\n",
       "      <th>PaperlessBilling</th>\n",
       "      <th>PaymentMethod</th>\n",
       "      <th>MonthlyCharges</th>\n",
       "      <th>TotalCharges</th>\n",
       "      <th>Churn</th>\n",
       "    </tr>\n",
       "  </thead>\n",
       "  <tbody>\n",
       "  </tbody>\n",
       "</table>\n",
       "</div>"
      ],
      "text/plain": [
       "Empty DataFrame\n",
       "Columns: [gender, SeniorCitizen, Partner, Dependents, tenure, PhoneService, MultipleLines, InternetService, OnlineSecurity, OnlineBackup, DeviceProtection, TechSupport, StreamingTV, StreamingMovies, Contract, PaperlessBilling, PaymentMethod, MonthlyCharges, TotalCharges, Churn]\n",
       "Index: []"
      ]
     },
     "execution_count": 48,
     "metadata": {},
     "output_type": "execute_result"
    }
   ],
   "source": [
    "df[np.isnan(df['TotalCharges'])]"
   ]
  },
  {
   "cell_type": "raw",
   "id": "97b9b7a2",
   "metadata": {
    "papermill": {
     "duration": 0.095044,
     "end_time": "2021-06-29T09:02:54.478124",
     "exception": false,
     "start_time": "2021-06-29T09:02:54.383080",
     "status": "completed"
    },
    "tags": []
   },
   "source": [
    " It can also be noted that the Tenure column is 0 for these entries even though the MonthlyCharges column is not empty.\n",
    "\n",
    "checking for other 0 values in the tenure column."
   ]
  },
  {
   "cell_type": "code",
   "execution_count": 46,
   "id": "shaped-maximum",
   "metadata": {
    "execution": {
     "iopub.execute_input": "2021-06-29T09:02:54.670466Z",
     "iopub.status.busy": "2021-06-29T09:02:54.669347Z",
     "iopub.status.idle": "2021-06-29T09:02:54.694571Z",
     "shell.execute_reply": "2021-06-29T09:02:54.693974Z",
     "shell.execute_reply.started": "2021-06-29T08:55:23.856114Z"
    },
    "papermill": {
     "duration": 0.121839,
     "end_time": "2021-06-29T09:02:54.694721",
     "exception": false,
     "start_time": "2021-06-29T09:02:54.572882",
     "status": "completed"
    },
    "tags": []
   },
   "outputs": [
    {
     "data": {
      "text/plain": [
       "Index([], dtype='int64')"
      ]
     },
     "execution_count": 46,
     "metadata": {},
     "output_type": "execute_result"
    }
   ],
   "source": [
    "df[df['tenure'] == 0].index"
   ]
  },
  {
   "cell_type": "markdown",
   "id": "young-shade",
   "metadata": {
    "papermill": {
     "duration": 0.097417,
     "end_time": "2021-06-29T09:02:54.888407",
     "exception": false,
     "start_time": "2021-06-29T09:02:54.790990",
     "status": "completed"
    },
    "tags": []
   },
   "source": [
    "There are no additional missing values in the Tenure column. \n",
    "deleting the rows with missing values in Tenure columns since there are only 11 rows and deleting them will not affect the data."
   ]
  },
  {
   "cell_type": "code",
   "execution_count": 47,
   "id": "surprised-powder",
   "metadata": {
    "execution": {
     "iopub.execute_input": "2021-06-29T09:02:55.082177Z",
     "iopub.status.busy": "2021-06-29T09:02:55.081512Z",
     "iopub.status.idle": "2021-06-29T09:02:55.088169Z",
     "shell.execute_reply": "2021-06-29T09:02:55.088797Z",
     "shell.execute_reply.started": "2021-06-29T08:55:23.878972Z"
    },
    "papermill": {
     "duration": 0.107557,
     "end_time": "2021-06-29T09:02:55.089007",
     "exception": false,
     "start_time": "2021-06-29T09:02:54.981450",
     "status": "completed"
    },
    "tags": []
   },
   "outputs": [
    {
     "data": {
      "text/plain": [
       "Index([], dtype='int64')"
      ]
     },
     "execution_count": 47,
     "metadata": {},
     "output_type": "execute_result"
    }
   ],
   "source": [
    "df.drop(labels=df[df['tenure'] == 0].index, axis=0, inplace=True)\n",
    "df[df['tenure'] == 0].index"
   ]
  },
  {
   "cell_type": "raw",
   "id": "a024534d",
   "metadata": {
    "papermill": {
     "duration": 0.094028,
     "end_time": "2021-06-29T09:02:55.276443",
     "exception": false,
     "start_time": "2021-06-29T09:02:55.182415",
     "status": "completed"
    },
    "tags": []
   },
   "source": [
    " To solve the problem of missing values in TotalCharges column, fill it with the mean of TotalCharges values"
   ]
  },
  {
   "cell_type": "code",
   "execution_count": 15,
   "id": "boolean-budapest",
   "metadata": {
    "execution": {
     "iopub.execute_input": "2021-06-29T09:02:55.466612Z",
     "iopub.status.busy": "2021-06-29T09:02:55.465948Z",
     "iopub.status.idle": "2021-06-29T09:02:55.514729Z",
     "shell.execute_reply": "2021-06-29T09:02:55.514197Z",
     "shell.execute_reply.started": "2021-06-29T08:55:23.891496Z"
    },
    "papermill": {
     "duration": 0.144652,
     "end_time": "2021-06-29T09:02:55.514867",
     "exception": false,
     "start_time": "2021-06-29T09:02:55.370215",
     "status": "completed"
    },
    "tags": []
   },
   "outputs": [
    {
     "data": {
      "text/html": [
       "<div>\n",
       "<style scoped>\n",
       "    .dataframe tbody tr th:only-of-type {\n",
       "        vertical-align: middle;\n",
       "    }\n",
       "\n",
       "    .dataframe tbody tr th {\n",
       "        vertical-align: top;\n",
       "    }\n",
       "\n",
       "    .dataframe thead th {\n",
       "        text-align: right;\n",
       "    }\n",
       "</style>\n",
       "<table border=\"1\" class=\"dataframe\">\n",
       "  <thead>\n",
       "    <tr style=\"text-align: right;\">\n",
       "      <th></th>\n",
       "      <th>gender</th>\n",
       "      <th>SeniorCitizen</th>\n",
       "      <th>Partner</th>\n",
       "      <th>Dependents</th>\n",
       "      <th>tenure</th>\n",
       "      <th>PhoneService</th>\n",
       "      <th>MultipleLines</th>\n",
       "      <th>InternetService</th>\n",
       "      <th>OnlineSecurity</th>\n",
       "      <th>OnlineBackup</th>\n",
       "      <th>DeviceProtection</th>\n",
       "      <th>TechSupport</th>\n",
       "      <th>StreamingTV</th>\n",
       "      <th>StreamingMovies</th>\n",
       "      <th>Contract</th>\n",
       "      <th>PaperlessBilling</th>\n",
       "      <th>PaymentMethod</th>\n",
       "      <th>MonthlyCharges</th>\n",
       "      <th>TotalCharges</th>\n",
       "      <th>Churn</th>\n",
       "    </tr>\n",
       "  </thead>\n",
       "  <tbody>\n",
       "    <tr>\n",
       "      <th>0</th>\n",
       "      <td>Female</td>\n",
       "      <td>0</td>\n",
       "      <td>Yes</td>\n",
       "      <td>No</td>\n",
       "      <td>1</td>\n",
       "      <td>No</td>\n",
       "      <td>No phone service</td>\n",
       "      <td>DSL</td>\n",
       "      <td>No</td>\n",
       "      <td>Yes</td>\n",
       "      <td>No</td>\n",
       "      <td>No</td>\n",
       "      <td>No</td>\n",
       "      <td>No</td>\n",
       "      <td>Month-to-month</td>\n",
       "      <td>Yes</td>\n",
       "      <td>Electronic check</td>\n",
       "      <td>29.85</td>\n",
       "      <td>29.85</td>\n",
       "      <td>No</td>\n",
       "    </tr>\n",
       "    <tr>\n",
       "      <th>1</th>\n",
       "      <td>Male</td>\n",
       "      <td>0</td>\n",
       "      <td>No</td>\n",
       "      <td>No</td>\n",
       "      <td>34</td>\n",
       "      <td>Yes</td>\n",
       "      <td>No</td>\n",
       "      <td>DSL</td>\n",
       "      <td>Yes</td>\n",
       "      <td>No</td>\n",
       "      <td>Yes</td>\n",
       "      <td>No</td>\n",
       "      <td>No</td>\n",
       "      <td>No</td>\n",
       "      <td>One year</td>\n",
       "      <td>No</td>\n",
       "      <td>Mailed check</td>\n",
       "      <td>56.95</td>\n",
       "      <td>1889.50</td>\n",
       "      <td>No</td>\n",
       "    </tr>\n",
       "    <tr>\n",
       "      <th>2</th>\n",
       "      <td>Male</td>\n",
       "      <td>0</td>\n",
       "      <td>No</td>\n",
       "      <td>No</td>\n",
       "      <td>2</td>\n",
       "      <td>Yes</td>\n",
       "      <td>No</td>\n",
       "      <td>DSL</td>\n",
       "      <td>Yes</td>\n",
       "      <td>Yes</td>\n",
       "      <td>No</td>\n",
       "      <td>No</td>\n",
       "      <td>No</td>\n",
       "      <td>No</td>\n",
       "      <td>Month-to-month</td>\n",
       "      <td>Yes</td>\n",
       "      <td>Mailed check</td>\n",
       "      <td>53.85</td>\n",
       "      <td>108.15</td>\n",
       "      <td>Yes</td>\n",
       "    </tr>\n",
       "    <tr>\n",
       "      <th>3</th>\n",
       "      <td>Male</td>\n",
       "      <td>0</td>\n",
       "      <td>No</td>\n",
       "      <td>No</td>\n",
       "      <td>45</td>\n",
       "      <td>No</td>\n",
       "      <td>No phone service</td>\n",
       "      <td>DSL</td>\n",
       "      <td>Yes</td>\n",
       "      <td>No</td>\n",
       "      <td>Yes</td>\n",
       "      <td>Yes</td>\n",
       "      <td>No</td>\n",
       "      <td>No</td>\n",
       "      <td>One year</td>\n",
       "      <td>No</td>\n",
       "      <td>Bank transfer (automatic)</td>\n",
       "      <td>42.30</td>\n",
       "      <td>1840.75</td>\n",
       "      <td>No</td>\n",
       "    </tr>\n",
       "    <tr>\n",
       "      <th>4</th>\n",
       "      <td>Female</td>\n",
       "      <td>0</td>\n",
       "      <td>No</td>\n",
       "      <td>No</td>\n",
       "      <td>2</td>\n",
       "      <td>Yes</td>\n",
       "      <td>No</td>\n",
       "      <td>Fiber optic</td>\n",
       "      <td>No</td>\n",
       "      <td>No</td>\n",
       "      <td>No</td>\n",
       "      <td>No</td>\n",
       "      <td>No</td>\n",
       "      <td>No</td>\n",
       "      <td>Month-to-month</td>\n",
       "      <td>Yes</td>\n",
       "      <td>Electronic check</td>\n",
       "      <td>70.70</td>\n",
       "      <td>151.65</td>\n",
       "      <td>Yes</td>\n",
       "    </tr>\n",
       "    <tr>\n",
       "      <th>...</th>\n",
       "      <td>...</td>\n",
       "      <td>...</td>\n",
       "      <td>...</td>\n",
       "      <td>...</td>\n",
       "      <td>...</td>\n",
       "      <td>...</td>\n",
       "      <td>...</td>\n",
       "      <td>...</td>\n",
       "      <td>...</td>\n",
       "      <td>...</td>\n",
       "      <td>...</td>\n",
       "      <td>...</td>\n",
       "      <td>...</td>\n",
       "      <td>...</td>\n",
       "      <td>...</td>\n",
       "      <td>...</td>\n",
       "      <td>...</td>\n",
       "      <td>...</td>\n",
       "      <td>...</td>\n",
       "      <td>...</td>\n",
       "    </tr>\n",
       "    <tr>\n",
       "      <th>7038</th>\n",
       "      <td>Male</td>\n",
       "      <td>0</td>\n",
       "      <td>Yes</td>\n",
       "      <td>Yes</td>\n",
       "      <td>24</td>\n",
       "      <td>Yes</td>\n",
       "      <td>Yes</td>\n",
       "      <td>DSL</td>\n",
       "      <td>Yes</td>\n",
       "      <td>No</td>\n",
       "      <td>Yes</td>\n",
       "      <td>Yes</td>\n",
       "      <td>Yes</td>\n",
       "      <td>Yes</td>\n",
       "      <td>One year</td>\n",
       "      <td>Yes</td>\n",
       "      <td>Mailed check</td>\n",
       "      <td>84.80</td>\n",
       "      <td>1990.50</td>\n",
       "      <td>No</td>\n",
       "    </tr>\n",
       "    <tr>\n",
       "      <th>7039</th>\n",
       "      <td>Female</td>\n",
       "      <td>0</td>\n",
       "      <td>Yes</td>\n",
       "      <td>Yes</td>\n",
       "      <td>72</td>\n",
       "      <td>Yes</td>\n",
       "      <td>Yes</td>\n",
       "      <td>Fiber optic</td>\n",
       "      <td>No</td>\n",
       "      <td>Yes</td>\n",
       "      <td>Yes</td>\n",
       "      <td>No</td>\n",
       "      <td>Yes</td>\n",
       "      <td>Yes</td>\n",
       "      <td>One year</td>\n",
       "      <td>Yes</td>\n",
       "      <td>Credit card (automatic)</td>\n",
       "      <td>103.20</td>\n",
       "      <td>7362.90</td>\n",
       "      <td>No</td>\n",
       "    </tr>\n",
       "    <tr>\n",
       "      <th>7040</th>\n",
       "      <td>Female</td>\n",
       "      <td>0</td>\n",
       "      <td>Yes</td>\n",
       "      <td>Yes</td>\n",
       "      <td>11</td>\n",
       "      <td>No</td>\n",
       "      <td>No phone service</td>\n",
       "      <td>DSL</td>\n",
       "      <td>Yes</td>\n",
       "      <td>No</td>\n",
       "      <td>No</td>\n",
       "      <td>No</td>\n",
       "      <td>No</td>\n",
       "      <td>No</td>\n",
       "      <td>Month-to-month</td>\n",
       "      <td>Yes</td>\n",
       "      <td>Electronic check</td>\n",
       "      <td>29.60</td>\n",
       "      <td>346.45</td>\n",
       "      <td>No</td>\n",
       "    </tr>\n",
       "    <tr>\n",
       "      <th>7041</th>\n",
       "      <td>Male</td>\n",
       "      <td>1</td>\n",
       "      <td>Yes</td>\n",
       "      <td>No</td>\n",
       "      <td>4</td>\n",
       "      <td>Yes</td>\n",
       "      <td>Yes</td>\n",
       "      <td>Fiber optic</td>\n",
       "      <td>No</td>\n",
       "      <td>No</td>\n",
       "      <td>No</td>\n",
       "      <td>No</td>\n",
       "      <td>No</td>\n",
       "      <td>No</td>\n",
       "      <td>Month-to-month</td>\n",
       "      <td>Yes</td>\n",
       "      <td>Mailed check</td>\n",
       "      <td>74.40</td>\n",
       "      <td>306.60</td>\n",
       "      <td>Yes</td>\n",
       "    </tr>\n",
       "    <tr>\n",
       "      <th>7042</th>\n",
       "      <td>Male</td>\n",
       "      <td>0</td>\n",
       "      <td>No</td>\n",
       "      <td>No</td>\n",
       "      <td>66</td>\n",
       "      <td>Yes</td>\n",
       "      <td>No</td>\n",
       "      <td>Fiber optic</td>\n",
       "      <td>Yes</td>\n",
       "      <td>No</td>\n",
       "      <td>Yes</td>\n",
       "      <td>Yes</td>\n",
       "      <td>Yes</td>\n",
       "      <td>Yes</td>\n",
       "      <td>Two year</td>\n",
       "      <td>Yes</td>\n",
       "      <td>Bank transfer (automatic)</td>\n",
       "      <td>105.65</td>\n",
       "      <td>6844.50</td>\n",
       "      <td>No</td>\n",
       "    </tr>\n",
       "  </tbody>\n",
       "</table>\n",
       "<p>7032 rows × 20 columns</p>\n",
       "</div>"
      ],
      "text/plain": [
       "      gender  SeniorCitizen Partner Dependents  tenure PhoneService  \\\n",
       "0     Female              0     Yes         No       1           No   \n",
       "1       Male              0      No         No      34          Yes   \n",
       "2       Male              0      No         No       2          Yes   \n",
       "3       Male              0      No         No      45           No   \n",
       "4     Female              0      No         No       2          Yes   \n",
       "...      ...            ...     ...        ...     ...          ...   \n",
       "7038    Male              0     Yes        Yes      24          Yes   \n",
       "7039  Female              0     Yes        Yes      72          Yes   \n",
       "7040  Female              0     Yes        Yes      11           No   \n",
       "7041    Male              1     Yes         No       4          Yes   \n",
       "7042    Male              0      No         No      66          Yes   \n",
       "\n",
       "         MultipleLines InternetService OnlineSecurity OnlineBackup  \\\n",
       "0     No phone service             DSL             No          Yes   \n",
       "1                   No             DSL            Yes           No   \n",
       "2                   No             DSL            Yes          Yes   \n",
       "3     No phone service             DSL            Yes           No   \n",
       "4                   No     Fiber optic             No           No   \n",
       "...                ...             ...            ...          ...   \n",
       "7038               Yes             DSL            Yes           No   \n",
       "7039               Yes     Fiber optic             No          Yes   \n",
       "7040  No phone service             DSL            Yes           No   \n",
       "7041               Yes     Fiber optic             No           No   \n",
       "7042                No     Fiber optic            Yes           No   \n",
       "\n",
       "     DeviceProtection TechSupport StreamingTV StreamingMovies        Contract  \\\n",
       "0                  No          No          No              No  Month-to-month   \n",
       "1                 Yes          No          No              No        One year   \n",
       "2                  No          No          No              No  Month-to-month   \n",
       "3                 Yes         Yes          No              No        One year   \n",
       "4                  No          No          No              No  Month-to-month   \n",
       "...               ...         ...         ...             ...             ...   \n",
       "7038              Yes         Yes         Yes             Yes        One year   \n",
       "7039              Yes          No         Yes             Yes        One year   \n",
       "7040               No          No          No              No  Month-to-month   \n",
       "7041               No          No          No              No  Month-to-month   \n",
       "7042              Yes         Yes         Yes             Yes        Two year   \n",
       "\n",
       "     PaperlessBilling              PaymentMethod  MonthlyCharges  \\\n",
       "0                 Yes           Electronic check           29.85   \n",
       "1                  No               Mailed check           56.95   \n",
       "2                 Yes               Mailed check           53.85   \n",
       "3                  No  Bank transfer (automatic)           42.30   \n",
       "4                 Yes           Electronic check           70.70   \n",
       "...               ...                        ...             ...   \n",
       "7038              Yes               Mailed check           84.80   \n",
       "7039              Yes    Credit card (automatic)          103.20   \n",
       "7040              Yes           Electronic check           29.60   \n",
       "7041              Yes               Mailed check           74.40   \n",
       "7042              Yes  Bank transfer (automatic)          105.65   \n",
       "\n",
       "      TotalCharges Churn  \n",
       "0            29.85    No  \n",
       "1          1889.50    No  \n",
       "2           108.15   Yes  \n",
       "3          1840.75    No  \n",
       "4           151.65   Yes  \n",
       "...            ...   ...  \n",
       "7038       1990.50    No  \n",
       "7039       7362.90    No  \n",
       "7040        346.45    No  \n",
       "7041        306.60   Yes  \n",
       "7042       6844.50    No  \n",
       "\n",
       "[7032 rows x 20 columns]"
      ]
     },
     "execution_count": 15,
     "metadata": {},
     "output_type": "execute_result"
    }
   ],
   "source": [
    "df.fillna(df[\"TotalCharges\"].mean())"
   ]
  },
  {
   "cell_type": "code",
   "execution_count": 16,
   "id": "solved-shipping",
   "metadata": {
    "execution": {
     "iopub.execute_input": "2021-06-29T09:02:55.719453Z",
     "iopub.status.busy": "2021-06-29T09:02:55.718770Z",
     "iopub.status.idle": "2021-06-29T09:02:55.726883Z",
     "shell.execute_reply": "2021-06-29T09:02:55.726285Z",
     "shell.execute_reply.started": "2021-06-29T08:55:23.945218Z"
    },
    "papermill": {
     "duration": 0.117474,
     "end_time": "2021-06-29T09:02:55.727035",
     "exception": false,
     "start_time": "2021-06-29T09:02:55.609561",
     "status": "completed"
    },
    "tags": []
   },
   "outputs": [
    {
     "data": {
      "text/plain": [
       "gender              0\n",
       "SeniorCitizen       0\n",
       "Partner             0\n",
       "Dependents          0\n",
       "tenure              0\n",
       "PhoneService        0\n",
       "MultipleLines       0\n",
       "InternetService     0\n",
       "OnlineSecurity      0\n",
       "OnlineBackup        0\n",
       "DeviceProtection    0\n",
       "TechSupport         0\n",
       "StreamingTV         0\n",
       "StreamingMovies     0\n",
       "Contract            0\n",
       "PaperlessBilling    0\n",
       "PaymentMethod       0\n",
       "MonthlyCharges      0\n",
       "TotalCharges        0\n",
       "Churn               0\n",
       "dtype: int64"
      ]
     },
     "execution_count": 16,
     "metadata": {},
     "output_type": "execute_result"
    }
   ],
   "source": [
    "df.isnull().sum()"
   ]
  },
  {
   "cell_type": "code",
   "execution_count": 17,
   "id": "legal-vatican",
   "metadata": {
    "execution": {
     "iopub.execute_input": "2021-06-29T09:02:55.921449Z",
     "iopub.status.busy": "2021-06-29T09:02:55.920756Z",
     "iopub.status.idle": "2021-06-29T09:02:55.948271Z",
     "shell.execute_reply": "2021-06-29T09:02:55.948753Z",
     "shell.execute_reply.started": "2021-06-29T08:55:23.966777Z"
    },
    "papermill": {
     "duration": 0.126324,
     "end_time": "2021-06-29T09:02:55.948927",
     "exception": false,
     "start_time": "2021-06-29T09:02:55.822603",
     "status": "completed"
    },
    "tags": []
   },
   "outputs": [
    {
     "data": {
      "text/html": [
       "<div>\n",
       "<style scoped>\n",
       "    .dataframe tbody tr th:only-of-type {\n",
       "        vertical-align: middle;\n",
       "    }\n",
       "\n",
       "    .dataframe tbody tr th {\n",
       "        vertical-align: top;\n",
       "    }\n",
       "\n",
       "    .dataframe thead th {\n",
       "        text-align: right;\n",
       "    }\n",
       "</style>\n",
       "<table border=\"1\" class=\"dataframe\">\n",
       "  <thead>\n",
       "    <tr style=\"text-align: right;\">\n",
       "      <th></th>\n",
       "      <th>gender</th>\n",
       "      <th>SeniorCitizen</th>\n",
       "      <th>Partner</th>\n",
       "      <th>Dependents</th>\n",
       "      <th>tenure</th>\n",
       "      <th>PhoneService</th>\n",
       "      <th>MultipleLines</th>\n",
       "      <th>InternetService</th>\n",
       "      <th>OnlineSecurity</th>\n",
       "      <th>OnlineBackup</th>\n",
       "      <th>DeviceProtection</th>\n",
       "      <th>TechSupport</th>\n",
       "      <th>StreamingTV</th>\n",
       "      <th>StreamingMovies</th>\n",
       "      <th>Contract</th>\n",
       "      <th>PaperlessBilling</th>\n",
       "      <th>PaymentMethod</th>\n",
       "      <th>MonthlyCharges</th>\n",
       "      <th>TotalCharges</th>\n",
       "      <th>Churn</th>\n",
       "    </tr>\n",
       "  </thead>\n",
       "  <tbody>\n",
       "    <tr>\n",
       "      <th>0</th>\n",
       "      <td>Female</td>\n",
       "      <td>No</td>\n",
       "      <td>Yes</td>\n",
       "      <td>No</td>\n",
       "      <td>1</td>\n",
       "      <td>No</td>\n",
       "      <td>No phone service</td>\n",
       "      <td>DSL</td>\n",
       "      <td>No</td>\n",
       "      <td>Yes</td>\n",
       "      <td>No</td>\n",
       "      <td>No</td>\n",
       "      <td>No</td>\n",
       "      <td>No</td>\n",
       "      <td>Month-to-month</td>\n",
       "      <td>Yes</td>\n",
       "      <td>Electronic check</td>\n",
       "      <td>29.85</td>\n",
       "      <td>29.85</td>\n",
       "      <td>No</td>\n",
       "    </tr>\n",
       "    <tr>\n",
       "      <th>1</th>\n",
       "      <td>Male</td>\n",
       "      <td>No</td>\n",
       "      <td>No</td>\n",
       "      <td>No</td>\n",
       "      <td>34</td>\n",
       "      <td>Yes</td>\n",
       "      <td>No</td>\n",
       "      <td>DSL</td>\n",
       "      <td>Yes</td>\n",
       "      <td>No</td>\n",
       "      <td>Yes</td>\n",
       "      <td>No</td>\n",
       "      <td>No</td>\n",
       "      <td>No</td>\n",
       "      <td>One year</td>\n",
       "      <td>No</td>\n",
       "      <td>Mailed check</td>\n",
       "      <td>56.95</td>\n",
       "      <td>1889.50</td>\n",
       "      <td>No</td>\n",
       "    </tr>\n",
       "    <tr>\n",
       "      <th>2</th>\n",
       "      <td>Male</td>\n",
       "      <td>No</td>\n",
       "      <td>No</td>\n",
       "      <td>No</td>\n",
       "      <td>2</td>\n",
       "      <td>Yes</td>\n",
       "      <td>No</td>\n",
       "      <td>DSL</td>\n",
       "      <td>Yes</td>\n",
       "      <td>Yes</td>\n",
       "      <td>No</td>\n",
       "      <td>No</td>\n",
       "      <td>No</td>\n",
       "      <td>No</td>\n",
       "      <td>Month-to-month</td>\n",
       "      <td>Yes</td>\n",
       "      <td>Mailed check</td>\n",
       "      <td>53.85</td>\n",
       "      <td>108.15</td>\n",
       "      <td>Yes</td>\n",
       "    </tr>\n",
       "    <tr>\n",
       "      <th>3</th>\n",
       "      <td>Male</td>\n",
       "      <td>No</td>\n",
       "      <td>No</td>\n",
       "      <td>No</td>\n",
       "      <td>45</td>\n",
       "      <td>No</td>\n",
       "      <td>No phone service</td>\n",
       "      <td>DSL</td>\n",
       "      <td>Yes</td>\n",
       "      <td>No</td>\n",
       "      <td>Yes</td>\n",
       "      <td>Yes</td>\n",
       "      <td>No</td>\n",
       "      <td>No</td>\n",
       "      <td>One year</td>\n",
       "      <td>No</td>\n",
       "      <td>Bank transfer (automatic)</td>\n",
       "      <td>42.30</td>\n",
       "      <td>1840.75</td>\n",
       "      <td>No</td>\n",
       "    </tr>\n",
       "    <tr>\n",
       "      <th>4</th>\n",
       "      <td>Female</td>\n",
       "      <td>No</td>\n",
       "      <td>No</td>\n",
       "      <td>No</td>\n",
       "      <td>2</td>\n",
       "      <td>Yes</td>\n",
       "      <td>No</td>\n",
       "      <td>Fiber optic</td>\n",
       "      <td>No</td>\n",
       "      <td>No</td>\n",
       "      <td>No</td>\n",
       "      <td>No</td>\n",
       "      <td>No</td>\n",
       "      <td>No</td>\n",
       "      <td>Month-to-month</td>\n",
       "      <td>Yes</td>\n",
       "      <td>Electronic check</td>\n",
       "      <td>70.70</td>\n",
       "      <td>151.65</td>\n",
       "      <td>Yes</td>\n",
       "    </tr>\n",
       "  </tbody>\n",
       "</table>\n",
       "</div>"
      ],
      "text/plain": [
       "   gender SeniorCitizen Partner Dependents  tenure PhoneService  \\\n",
       "0  Female            No     Yes         No       1           No   \n",
       "1    Male            No      No         No      34          Yes   \n",
       "2    Male            No      No         No       2          Yes   \n",
       "3    Male            No      No         No      45           No   \n",
       "4  Female            No      No         No       2          Yes   \n",
       "\n",
       "      MultipleLines InternetService OnlineSecurity OnlineBackup  \\\n",
       "0  No phone service             DSL             No          Yes   \n",
       "1                No             DSL            Yes           No   \n",
       "2                No             DSL            Yes          Yes   \n",
       "3  No phone service             DSL            Yes           No   \n",
       "4                No     Fiber optic             No           No   \n",
       "\n",
       "  DeviceProtection TechSupport StreamingTV StreamingMovies        Contract  \\\n",
       "0               No          No          No              No  Month-to-month   \n",
       "1              Yes          No          No              No        One year   \n",
       "2               No          No          No              No  Month-to-month   \n",
       "3              Yes         Yes          No              No        One year   \n",
       "4               No          No          No              No  Month-to-month   \n",
       "\n",
       "  PaperlessBilling              PaymentMethod  MonthlyCharges  TotalCharges  \\\n",
       "0              Yes           Electronic check           29.85         29.85   \n",
       "1               No               Mailed check           56.95       1889.50   \n",
       "2              Yes               Mailed check           53.85        108.15   \n",
       "3               No  Bank transfer (automatic)           42.30       1840.75   \n",
       "4              Yes           Electronic check           70.70        151.65   \n",
       "\n",
       "  Churn  \n",
       "0    No  \n",
       "1    No  \n",
       "2   Yes  \n",
       "3    No  \n",
       "4   Yes  "
      ]
     },
     "execution_count": 17,
     "metadata": {},
     "output_type": "execute_result"
    }
   ],
   "source": [
    "df[\"SeniorCitizen\"]= df[\"SeniorCitizen\"].map({0: \"No\", 1: \"Yes\"})\n",
    "df.head()"
   ]
  },
  {
   "cell_type": "code",
   "execution_count": 18,
   "id": "pointed-maintenance",
   "metadata": {
    "execution": {
     "iopub.execute_input": "2021-06-29T09:02:56.144948Z",
     "iopub.status.busy": "2021-06-29T09:02:56.144243Z",
     "iopub.status.idle": "2021-06-29T09:02:56.155426Z",
     "shell.execute_reply": "2021-06-29T09:02:56.154893Z",
     "shell.execute_reply.started": "2021-06-29T08:55:24.000825Z"
    },
    "papermill": {
     "duration": 0.108963,
     "end_time": "2021-06-29T09:02:56.155570",
     "exception": false,
     "start_time": "2021-06-29T09:02:56.046607",
     "status": "completed"
    },
    "tags": []
   },
   "outputs": [
    {
     "data": {
      "text/plain": [
       "count            7032\n",
       "unique              3\n",
       "top       Fiber optic\n",
       "freq             3096\n",
       "Name: InternetService, dtype: object"
      ]
     },
     "execution_count": 18,
     "metadata": {},
     "output_type": "execute_result"
    }
   ],
   "source": [
    "df[\"InternetService\"].describe(include=['object', 'bool'])"
   ]
  },
  {
   "cell_type": "code",
   "execution_count": 19,
   "id": "wooden-sodium",
   "metadata": {
    "execution": {
     "iopub.execute_input": "2021-06-29T09:02:56.354292Z",
     "iopub.status.busy": "2021-06-29T09:02:56.353601Z",
     "iopub.status.idle": "2021-06-29T09:02:56.377785Z",
     "shell.execute_reply": "2021-06-29T09:02:56.377165Z",
     "shell.execute_reply.started": "2021-06-29T08:55:24.014572Z"
    },
    "papermill": {
     "duration": 0.125674,
     "end_time": "2021-06-29T09:02:56.377929",
     "exception": false,
     "start_time": "2021-06-29T09:02:56.252255",
     "status": "completed"
    },
    "tags": []
   },
   "outputs": [
    {
     "data": {
      "text/html": [
       "<div>\n",
       "<style scoped>\n",
       "    .dataframe tbody tr th:only-of-type {\n",
       "        vertical-align: middle;\n",
       "    }\n",
       "\n",
       "    .dataframe tbody tr th {\n",
       "        vertical-align: top;\n",
       "    }\n",
       "\n",
       "    .dataframe thead th {\n",
       "        text-align: right;\n",
       "    }\n",
       "</style>\n",
       "<table border=\"1\" class=\"dataframe\">\n",
       "  <thead>\n",
       "    <tr style=\"text-align: right;\">\n",
       "      <th></th>\n",
       "      <th>tenure</th>\n",
       "      <th>MonthlyCharges</th>\n",
       "      <th>TotalCharges</th>\n",
       "    </tr>\n",
       "  </thead>\n",
       "  <tbody>\n",
       "    <tr>\n",
       "      <th>count</th>\n",
       "      <td>7032.000000</td>\n",
       "      <td>7032.000000</td>\n",
       "      <td>7032.000000</td>\n",
       "    </tr>\n",
       "    <tr>\n",
       "      <th>mean</th>\n",
       "      <td>32.421786</td>\n",
       "      <td>64.798208</td>\n",
       "      <td>2283.300441</td>\n",
       "    </tr>\n",
       "    <tr>\n",
       "      <th>std</th>\n",
       "      <td>24.545260</td>\n",
       "      <td>30.085974</td>\n",
       "      <td>2266.771362</td>\n",
       "    </tr>\n",
       "    <tr>\n",
       "      <th>min</th>\n",
       "      <td>1.000000</td>\n",
       "      <td>18.250000</td>\n",
       "      <td>18.800000</td>\n",
       "    </tr>\n",
       "    <tr>\n",
       "      <th>25%</th>\n",
       "      <td>9.000000</td>\n",
       "      <td>35.587500</td>\n",
       "      <td>401.450000</td>\n",
       "    </tr>\n",
       "    <tr>\n",
       "      <th>50%</th>\n",
       "      <td>29.000000</td>\n",
       "      <td>70.350000</td>\n",
       "      <td>1397.475000</td>\n",
       "    </tr>\n",
       "    <tr>\n",
       "      <th>75%</th>\n",
       "      <td>55.000000</td>\n",
       "      <td>89.862500</td>\n",
       "      <td>3794.737500</td>\n",
       "    </tr>\n",
       "    <tr>\n",
       "      <th>max</th>\n",
       "      <td>72.000000</td>\n",
       "      <td>118.750000</td>\n",
       "      <td>8684.800000</td>\n",
       "    </tr>\n",
       "  </tbody>\n",
       "</table>\n",
       "</div>"
      ],
      "text/plain": [
       "            tenure  MonthlyCharges  TotalCharges\n",
       "count  7032.000000     7032.000000   7032.000000\n",
       "mean     32.421786       64.798208   2283.300441\n",
       "std      24.545260       30.085974   2266.771362\n",
       "min       1.000000       18.250000     18.800000\n",
       "25%       9.000000       35.587500    401.450000\n",
       "50%      29.000000       70.350000   1397.475000\n",
       "75%      55.000000       89.862500   3794.737500\n",
       "max      72.000000      118.750000   8684.800000"
      ]
     },
     "execution_count": 19,
     "metadata": {},
     "output_type": "execute_result"
    }
   ],
   "source": [
    "numerical_cols = ['tenure', 'MonthlyCharges', 'TotalCharges']\n",
    "df[numerical_cols].describe()"
   ]
  },
  {
   "cell_type": "markdown",
   "id": "661de897",
   "metadata": {},
   "source": [
    "# Splitting Data into testing and training"
   ]
  },
  {
   "cell_type": "code",
   "execution_count": 20,
   "id": "wicked-directive",
   "metadata": {
    "execution": {
     "iopub.execute_input": "2021-06-29T09:03:10.671793Z",
     "iopub.status.busy": "2021-06-29T09:03:10.670843Z",
     "iopub.status.idle": "2021-06-29T09:03:10.675250Z",
     "shell.execute_reply": "2021-06-29T09:03:10.675725Z",
     "shell.execute_reply.started": "2021-06-29T08:55:28.753167Z"
    },
    "papermill": {
     "duration": 0.140369,
     "end_time": "2021-06-29T09:03:10.675897",
     "exception": false,
     "start_time": "2021-06-29T09:03:10.535528",
     "status": "completed"
    },
    "tags": []
   },
   "outputs": [],
   "source": [
    "def object_to_int(dataframe_series):\n",
    "    if dataframe_series.dtype=='object':\n",
    "        dataframe_series = LabelEncoder().fit_transform(dataframe_series)\n",
    "    return dataframe_series"
   ]
  },
  {
   "cell_type": "code",
   "execution_count": 21,
   "id": "verbal-culture",
   "metadata": {
    "execution": {
     "iopub.execute_input": "2021-06-29T09:03:10.942691Z",
     "iopub.status.busy": "2021-06-29T09:03:10.941722Z",
     "iopub.status.idle": "2021-06-29T09:03:11.003593Z",
     "shell.execute_reply": "2021-06-29T09:03:11.004074Z",
     "shell.execute_reply.started": "2021-06-29T08:55:28.761028Z"
    },
    "papermill": {
     "duration": 0.19759,
     "end_time": "2021-06-29T09:03:11.004256",
     "exception": false,
     "start_time": "2021-06-29T09:03:10.806666",
     "status": "completed"
    },
    "tags": []
   },
   "outputs": [
    {
     "data": {
      "text/html": [
       "<div>\n",
       "<style scoped>\n",
       "    .dataframe tbody tr th:only-of-type {\n",
       "        vertical-align: middle;\n",
       "    }\n",
       "\n",
       "    .dataframe tbody tr th {\n",
       "        vertical-align: top;\n",
       "    }\n",
       "\n",
       "    .dataframe thead th {\n",
       "        text-align: right;\n",
       "    }\n",
       "</style>\n",
       "<table border=\"1\" class=\"dataframe\">\n",
       "  <thead>\n",
       "    <tr style=\"text-align: right;\">\n",
       "      <th></th>\n",
       "      <th>gender</th>\n",
       "      <th>SeniorCitizen</th>\n",
       "      <th>Partner</th>\n",
       "      <th>Dependents</th>\n",
       "      <th>tenure</th>\n",
       "      <th>PhoneService</th>\n",
       "      <th>MultipleLines</th>\n",
       "      <th>InternetService</th>\n",
       "      <th>OnlineSecurity</th>\n",
       "      <th>OnlineBackup</th>\n",
       "      <th>DeviceProtection</th>\n",
       "      <th>TechSupport</th>\n",
       "      <th>StreamingTV</th>\n",
       "      <th>StreamingMovies</th>\n",
       "      <th>Contract</th>\n",
       "      <th>PaperlessBilling</th>\n",
       "      <th>PaymentMethod</th>\n",
       "      <th>MonthlyCharges</th>\n",
       "      <th>TotalCharges</th>\n",
       "      <th>Churn</th>\n",
       "    </tr>\n",
       "  </thead>\n",
       "  <tbody>\n",
       "    <tr>\n",
       "      <th>0</th>\n",
       "      <td>0</td>\n",
       "      <td>0</td>\n",
       "      <td>1</td>\n",
       "      <td>0</td>\n",
       "      <td>1</td>\n",
       "      <td>0</td>\n",
       "      <td>1</td>\n",
       "      <td>0</td>\n",
       "      <td>0</td>\n",
       "      <td>2</td>\n",
       "      <td>0</td>\n",
       "      <td>0</td>\n",
       "      <td>0</td>\n",
       "      <td>0</td>\n",
       "      <td>0</td>\n",
       "      <td>1</td>\n",
       "      <td>2</td>\n",
       "      <td>29.85</td>\n",
       "      <td>29.85</td>\n",
       "      <td>0</td>\n",
       "    </tr>\n",
       "    <tr>\n",
       "      <th>1</th>\n",
       "      <td>1</td>\n",
       "      <td>0</td>\n",
       "      <td>0</td>\n",
       "      <td>0</td>\n",
       "      <td>34</td>\n",
       "      <td>1</td>\n",
       "      <td>0</td>\n",
       "      <td>0</td>\n",
       "      <td>2</td>\n",
       "      <td>0</td>\n",
       "      <td>2</td>\n",
       "      <td>0</td>\n",
       "      <td>0</td>\n",
       "      <td>0</td>\n",
       "      <td>1</td>\n",
       "      <td>0</td>\n",
       "      <td>3</td>\n",
       "      <td>56.95</td>\n",
       "      <td>1889.50</td>\n",
       "      <td>0</td>\n",
       "    </tr>\n",
       "    <tr>\n",
       "      <th>2</th>\n",
       "      <td>1</td>\n",
       "      <td>0</td>\n",
       "      <td>0</td>\n",
       "      <td>0</td>\n",
       "      <td>2</td>\n",
       "      <td>1</td>\n",
       "      <td>0</td>\n",
       "      <td>0</td>\n",
       "      <td>2</td>\n",
       "      <td>2</td>\n",
       "      <td>0</td>\n",
       "      <td>0</td>\n",
       "      <td>0</td>\n",
       "      <td>0</td>\n",
       "      <td>0</td>\n",
       "      <td>1</td>\n",
       "      <td>3</td>\n",
       "      <td>53.85</td>\n",
       "      <td>108.15</td>\n",
       "      <td>1</td>\n",
       "    </tr>\n",
       "    <tr>\n",
       "      <th>3</th>\n",
       "      <td>1</td>\n",
       "      <td>0</td>\n",
       "      <td>0</td>\n",
       "      <td>0</td>\n",
       "      <td>45</td>\n",
       "      <td>0</td>\n",
       "      <td>1</td>\n",
       "      <td>0</td>\n",
       "      <td>2</td>\n",
       "      <td>0</td>\n",
       "      <td>2</td>\n",
       "      <td>2</td>\n",
       "      <td>0</td>\n",
       "      <td>0</td>\n",
       "      <td>1</td>\n",
       "      <td>0</td>\n",
       "      <td>0</td>\n",
       "      <td>42.30</td>\n",
       "      <td>1840.75</td>\n",
       "      <td>0</td>\n",
       "    </tr>\n",
       "    <tr>\n",
       "      <th>4</th>\n",
       "      <td>0</td>\n",
       "      <td>0</td>\n",
       "      <td>0</td>\n",
       "      <td>0</td>\n",
       "      <td>2</td>\n",
       "      <td>1</td>\n",
       "      <td>0</td>\n",
       "      <td>1</td>\n",
       "      <td>0</td>\n",
       "      <td>0</td>\n",
       "      <td>0</td>\n",
       "      <td>0</td>\n",
       "      <td>0</td>\n",
       "      <td>0</td>\n",
       "      <td>0</td>\n",
       "      <td>1</td>\n",
       "      <td>2</td>\n",
       "      <td>70.70</td>\n",
       "      <td>151.65</td>\n",
       "      <td>1</td>\n",
       "    </tr>\n",
       "  </tbody>\n",
       "</table>\n",
       "</div>"
      ],
      "text/plain": [
       "   gender  SeniorCitizen  Partner  Dependents  tenure  PhoneService  \\\n",
       "0       0              0        1           0       1             0   \n",
       "1       1              0        0           0      34             1   \n",
       "2       1              0        0           0       2             1   \n",
       "3       1              0        0           0      45             0   \n",
       "4       0              0        0           0       2             1   \n",
       "\n",
       "   MultipleLines  InternetService  OnlineSecurity  OnlineBackup  \\\n",
       "0              1                0               0             2   \n",
       "1              0                0               2             0   \n",
       "2              0                0               2             2   \n",
       "3              1                0               2             0   \n",
       "4              0                1               0             0   \n",
       "\n",
       "   DeviceProtection  TechSupport  StreamingTV  StreamingMovies  Contract  \\\n",
       "0                 0            0            0                0         0   \n",
       "1                 2            0            0                0         1   \n",
       "2                 0            0            0                0         0   \n",
       "3                 2            2            0                0         1   \n",
       "4                 0            0            0                0         0   \n",
       "\n",
       "   PaperlessBilling  PaymentMethod  MonthlyCharges  TotalCharges  Churn  \n",
       "0                 1              2           29.85         29.85      0  \n",
       "1                 0              3           56.95       1889.50      0  \n",
       "2                 1              3           53.85        108.15      1  \n",
       "3                 0              0           42.30       1840.75      0  \n",
       "4                 1              2           70.70        151.65      1  "
      ]
     },
     "execution_count": 21,
     "metadata": {},
     "output_type": "execute_result"
    }
   ],
   "source": [
    "df = df.apply(lambda x: object_to_int(x))\n",
    "df.head()"
   ]
  },
  {
   "cell_type": "code",
   "execution_count": 22,
   "id": "cheap-writing",
   "metadata": {
    "execution": {
     "iopub.execute_input": "2021-06-29T09:03:11.270643Z",
     "iopub.status.busy": "2021-06-29T09:03:11.269668Z",
     "iopub.status.idle": "2021-06-29T09:03:11.289993Z",
     "shell.execute_reply": "2021-06-29T09:03:11.290504Z",
     "shell.execute_reply.started": "2021-06-29T08:55:28.836618Z"
    },
    "papermill": {
     "duration": 0.154339,
     "end_time": "2021-06-29T09:03:11.290684",
     "exception": false,
     "start_time": "2021-06-29T09:03:11.136345",
     "status": "completed"
    },
    "tags": []
   },
   "outputs": [
    {
     "data": {
      "text/plain": [
       "Churn               1.000000\n",
       "MonthlyCharges      0.192858\n",
       "PaperlessBilling    0.191454\n",
       "SeniorCitizen       0.150541\n",
       "PaymentMethod       0.107852\n",
       "MultipleLines       0.038043\n",
       "PhoneService        0.011691\n",
       "gender             -0.008545\n",
       "StreamingTV        -0.036303\n",
       "StreamingMovies    -0.038802\n",
       "InternetService    -0.047097\n",
       "Partner            -0.149982\n",
       "Dependents         -0.163128\n",
       "DeviceProtection   -0.177883\n",
       "OnlineBackup       -0.195290\n",
       "TotalCharges       -0.199484\n",
       "TechSupport        -0.282232\n",
       "OnlineSecurity     -0.289050\n",
       "tenure             -0.354049\n",
       "Contract           -0.396150\n",
       "Name: Churn, dtype: float64"
      ]
     },
     "execution_count": 22,
     "metadata": {},
     "output_type": "execute_result"
    },
    {
     "data": {
      "text/plain": [
       "<Figure size 1400x700 with 0 Axes>"
      ]
     },
     "metadata": {},
     "output_type": "display_data"
    }
   ],
   "source": [
    "plt.figure(figsize=(14,7))\n",
    "df.corr()['Churn'].sort_values(ascending = False)"
   ]
  },
  {
   "cell_type": "code",
   "execution_count": 23,
   "id": "confirmed-daisy",
   "metadata": {
    "execution": {
     "iopub.execute_input": "2021-06-29T09:03:11.559479Z",
     "iopub.status.busy": "2021-06-29T09:03:11.558779Z",
     "iopub.status.idle": "2021-06-29T09:03:11.563957Z",
     "shell.execute_reply": "2021-06-29T09:03:11.564443Z",
     "shell.execute_reply.started": "2021-06-29T08:55:28.861461Z"
    },
    "papermill": {
     "duration": 0.14135,
     "end_time": "2021-06-29T09:03:11.564626",
     "exception": false,
     "start_time": "2021-06-29T09:03:11.423276",
     "status": "completed"
    },
    "tags": []
   },
   "outputs": [],
   "source": [
    "X = df.drop(columns = ['Churn'])\n",
    "y = df['Churn'].values"
   ]
  },
  {
   "cell_type": "code",
   "execution_count": 24,
   "id": "medium-architecture",
   "metadata": {
    "execution": {
     "iopub.execute_input": "2021-06-29T09:03:11.835990Z",
     "iopub.status.busy": "2021-06-29T09:03:11.835342Z",
     "iopub.status.idle": "2021-06-29T09:03:11.848155Z",
     "shell.execute_reply": "2021-06-29T09:03:11.847630Z",
     "shell.execute_reply.started": "2021-06-29T08:55:28.870167Z"
    },
    "papermill": {
     "duration": 0.148807,
     "end_time": "2021-06-29T09:03:11.848327",
     "exception": false,
     "start_time": "2021-06-29T09:03:11.699520",
     "status": "completed"
    },
    "tags": []
   },
   "outputs": [],
   "source": [
    "X_train, X_test, y_train, y_test = train_test_split(X,y,test_size = 0.30, random_state = 40, stratify=y)"
   ]
  },
  {
   "cell_type": "code",
   "execution_count": 25,
   "id": "moderate-civilian",
   "metadata": {
    "execution": {
     "iopub.execute_input": "2021-06-29T09:03:12.121779Z",
     "iopub.status.busy": "2021-06-29T09:03:12.120960Z",
     "iopub.status.idle": "2021-06-29T09:03:12.125731Z",
     "shell.execute_reply": "2021-06-29T09:03:12.126275Z",
     "shell.execute_reply.started": "2021-06-29T08:55:28.892174Z"
    },
    "papermill": {
     "duration": 0.143783,
     "end_time": "2021-06-29T09:03:12.126481",
     "exception": false,
     "start_time": "2021-06-29T09:03:11.982698",
     "status": "completed"
    },
    "tags": []
   },
   "outputs": [],
   "source": [
    "def distplot(feature, frame, color='r'):\n",
    "    plt.figure(figsize=(8,3))\n",
    "    plt.title(\"Distribution for {}\".format(feature))\n",
    "    ax = sns.distplot(frame[feature])"
   ]
  },
  {
   "cell_type": "code",
   "execution_count": 26,
   "id": "understanding-suite",
   "metadata": {
    "execution": {
     "iopub.execute_input": "2021-06-29T09:03:12.400576Z",
     "iopub.status.busy": "2021-06-29T09:03:12.399805Z",
     "iopub.status.idle": "2021-06-29T09:03:13.078166Z",
     "shell.execute_reply": "2021-06-29T09:03:13.078717Z",
     "shell.execute_reply.started": "2021-06-29T08:55:28.899191Z"
    },
    "papermill": {
     "duration": 0.818452,
     "end_time": "2021-06-29T09:03:13.078895",
     "exception": false,
     "start_time": "2021-06-29T09:03:12.260443",
     "status": "completed"
    },
    "tags": []
   },
   "outputs": [
    {
     "data": {
      "image/png": "[encoded data removed]",
      "text/plain": [
       "<Figure size 800x300 with 1 Axes>"
      ]
     },
     "metadata": {},
     "output_type": "display_data"
    },
    {
     "data": {
      "image/png": "[encoded data removed]",
      "text/plain": [
       "<Figure size 800x300 with 1 Axes>"
      ]
     },
     "metadata": {},
     "output_type": "display_data"
    },
    {
     "data": {
      "image/png": "[encoded data removed]",
      "text/plain": [
       "<Figure size 800x300 with 1 Axes>"
      ]
     },
     "metadata": {},
     "output_type": "display_data"
    }
   ],
   "source": [
    "num_cols = [\"tenure\", 'MonthlyCharges', 'TotalCharges']\n",
    "for feat in num_cols: distplot(feat, df)"
   ]
  },
  {
   "cell_type": "markdown",
   "id": "sealed-representation",
   "metadata": {
    "papermill": {
     "duration": 0.138594,
     "end_time": "2021-06-29T09:03:13.357555",
     "exception": false,
     "start_time": "2021-06-29T09:03:13.218961",
     "status": "completed"
    },
    "tags": []
   },
   "source": [
    "Since the numerical features are distributed over different value ranges, I will use standard scalar to scale them down to the same range."
   ]
  },
  {
   "cell_type": "markdown",
   "id": "still-gabriel",
   "metadata": {
    "papermill": {
     "duration": 0.13559,
     "end_time": "2021-06-29T09:03:13.629181",
     "exception": false,
     "start_time": "2021-06-29T09:03:13.493591",
     "status": "completed"
    },
    "tags": []
   },
   "source": [
    "<a id = \"111\" ></a>\n",
    "#### **Standardizing numeric attributes**\n",
    "<a id = \"Standardizing\" ></a>"
   ]
  },
  {
   "cell_type": "code",
   "execution_count": 27,
   "id": "rational-massachusetts",
   "metadata": {
    "execution": {
     "iopub.execute_input": "2021-06-29T09:03:13.904156Z",
     "iopub.status.busy": "2021-06-29T09:03:13.903543Z",
     "iopub.status.idle": "2021-06-29T09:03:14.714904Z",
     "shell.execute_reply": "2021-06-29T09:03:14.714327Z",
     "shell.execute_reply.started": "2021-06-29T08:55:29.556183Z"
    },
    "papermill": {
     "duration": 0.949995,
     "end_time": "2021-06-29T09:03:14.715043",
     "exception": false,
     "start_time": "2021-06-29T09:03:13.765048",
     "status": "completed"
    },
    "tags": []
   },
   "outputs": [
    {
     "data": {
      "image/png": "[encoded data removed]",
      "text/plain": [
       "<Figure size 800x300 with 1 Axes>"
      ]
     },
     "metadata": {},
     "output_type": "display_data"
    },
    {
     "data": {
      "image/png": "[encoded data removed]",
      "text/plain": [
       "<Figure size 800x300 with 1 Axes>"
      ]
     },
     "metadata": {},
     "output_type": "display_data"
    },
    {
     "data": {
      "image/png": "[encoded data removed]",
      "text/plain": [
       "<Figure size 800x300 with 1 Axes>"
      ]
     },
     "metadata": {},
     "output_type": "display_data"
    }
   ],
   "source": [
    "df_std = pd.DataFrame(StandardScaler().fit_transform(df[num_cols].astype('float64')),\n",
    "                       columns=num_cols)\n",
    "for feat in numerical_cols: distplot(feat, df_std,)"
   ]
  },
  {
   "cell_type": "markdown",
   "id": "58ae5135",
   "metadata": {},
   "source": [
    "# Predictions \n",
    "KNN"
   ]
  },
  {
   "cell_type": "code",
   "execution_count": 49,
   "id": "8818b7a2",
   "metadata": {},
   "outputs": [],
   "source": [
    "# Divide the columns into 3 categories, one ofor standardisation, one for label encoding and one for one hot encoding\n",
    "\n",
    "cat_cols_ohe =['PaymentMethod', 'Contract', 'InternetService'] # those that need one-hot encoding\n",
    "cat_cols_le = list(set(X_train.columns)- set(num_cols) - set(cat_cols_ohe)) #those that need label encoding"
   ]
  },
  {
   "cell_type": "code",
   "execution_count": 50,
   "id": "0035ace8",
   "metadata": {},
   "outputs": [],
   "source": [
    "scaler= StandardScaler()\n",
    "\n",
    "X_train[num_cols] = scaler.fit_transform(X_train[num_cols])\n",
    "X_test[num_cols] = scaler.transform(X_test[num_cols])"
   ]
  },
  {
   "cell_type": "code",
   "execution_count": 51,
   "id": "2841f408",
   "metadata": {},
   "outputs": [],
   "source": [
    "X = df.drop(columns = ['Churn'])\n",
    "y = df['Churn'].values"
   ]
  },
  {
   "cell_type": "code",
   "execution_count": 52,
   "id": "ff5cc85d",
   "metadata": {},
   "outputs": [
    {
     "name": "stdout",
     "output_type": "stream",
     "text": [
      "Accuracy: 0.7405828002842928\n",
      "Classification Report:\n",
      "              precision    recall  f1-score   support\n",
      "\n",
      "           0       0.82      0.82      0.82      1033\n",
      "           1       0.51      0.51      0.51       374\n",
      "\n",
      "    accuracy                           0.74      1407\n",
      "   macro avg       0.67      0.67      0.67      1407\n",
      "weighted avg       0.74      0.74      0.74      1407\n",
      "\n"
     ]
    }
   ],
   "source": [
    "# Perform one-hot encoding for categorical variables\n",
    "X_encoded = pd.get_dummies(X)\n",
    "\n",
    "# Split the data into training and testing sets\n",
    "X_train, X_test, y_train, y_test = train_test_split(X_encoded, y, test_size=0.2, random_state=42)\n",
    "\n",
    "# Standardize the features\n",
    "scaler = StandardScaler()\n",
    "X_train_scaled = scaler.fit_transform(X_train)\n",
    "X_test_scaled = scaler.transform(X_test)\n",
    "\n",
    "# Initialize the KNN classifier\n",
    "knn_model = KNeighborsClassifier(n_neighbors=5)\n",
    "\n",
    "# Train the classifier\n",
    "knn_model.fit(X_train_scaled, y_train)\n",
    "\n",
    "# Make predictions on the test set\n",
    "predicted_y = knn_model.predict(X_test_scaled)\n",
    "\n",
    "# Calculate accuracy\n",
    "accuracy = accuracy_score(y_test, predicted_y)\n",
    "print(\"Accuracy:\", accuracy)\n",
    "\n",
    "# Generate classification report\n",
    "print(\"Classification Report:\")\n",
    "print(classification_report(y_test, predicted_y))\n"
   ]
  },
  {
   "cell_type": "code",
   "execution_count": 53,
   "id": "personalized-theology",
   "metadata": {
    "execution": {
     "iopub.execute_input": "2021-06-29T09:03:17.383863Z",
     "iopub.status.busy": "2021-06-29T09:03:17.383165Z",
     "iopub.status.idle": "2021-06-29T09:03:17.395649Z",
     "shell.execute_reply": "2021-06-29T09:03:17.394729Z",
     "shell.execute_reply.started": "2021-06-29T08:56:22.232204Z"
    },
    "papermill": {
     "duration": 0.154929,
     "end_time": "2021-06-29T09:03:17.395846",
     "exception": false,
     "start_time": "2021-06-29T09:03:17.240917",
     "status": "completed"
    },
    "tags": []
   },
   "outputs": [
    {
     "name": "stdout",
     "output_type": "stream",
     "text": [
      "              precision    recall  f1-score   support\n",
      "\n",
      "           0       0.82      0.82      0.82      1033\n",
      "           1       0.51      0.51      0.51       374\n",
      "\n",
      "    accuracy                           0.74      1407\n",
      "   macro avg       0.67      0.67      0.67      1407\n",
      "weighted avg       0.74      0.74      0.74      1407\n",
      "\n"
     ]
    }
   ],
   "source": [
    "print(classification_report(y_test, predicted_y))"
   ]
  },
  {
   "cell_type": "markdown",
   "id": "elect-adobe",
   "metadata": {
    "papermill": {
     "duration": 0.137578,
     "end_time": "2021-06-29T09:03:17.673862",
     "exception": false,
     "start_time": "2021-06-29T09:03:17.536284",
     "status": "completed"
    },
    "tags": []
   },
   "source": [
    "<a id = \"102\" ></a>\n",
    "#### <b>SVC</b>\n",
    "<a id = \"svc\" ></a>"
   ]
  },
  {
   "cell_type": "code",
   "execution_count": 54,
   "id": "becoming-vegetable",
   "metadata": {
    "execution": {
     "iopub.execute_input": "2021-06-29T09:03:17.959215Z",
     "iopub.status.busy": "2021-06-29T09:03:17.958509Z",
     "iopub.status.idle": "2021-06-29T09:03:19.615970Z",
     "shell.execute_reply": "2021-06-29T09:03:19.616445Z",
     "shell.execute_reply.started": "2021-06-29T08:58:18.234695Z"
    },
    "papermill": {
     "duration": 1.803273,
     "end_time": "2021-06-29T09:03:19.616630",
     "exception": false,
     "start_time": "2021-06-29T09:03:17.813357",
     "status": "completed"
    },
    "tags": []
   },
   "outputs": [
    {
     "name": "stdout",
     "output_type": "stream",
     "text": [
      "SVM accuracy is : 0.7341862117981521\n"
     ]
    }
   ],
   "source": [
    "svc_model = SVC(random_state = 1)\n",
    "svc_model.fit(X_train,y_train)\n",
    "predict_y = svc_model.predict(X_test)\n",
    "accuracy_svc = svc_model.score(X_test,y_test)\n",
    "print(\"SVM accuracy is :\",accuracy_svc)"
   ]
  },
  {
   "cell_type": "code",
   "execution_count": 55,
   "id": "surprising-antarctica",
   "metadata": {
    "execution": {
     "iopub.execute_input": "2021-06-29T09:03:19.920461Z",
     "iopub.status.busy": "2021-06-29T09:03:19.919805Z",
     "iopub.status.idle": "2021-06-29T09:03:19.933089Z",
     "shell.execute_reply": "2021-06-29T09:03:19.932578Z",
     "shell.execute_reply.started": "2021-06-29T08:58:26.682961Z"
    },
    "papermill": {
     "duration": 0.156011,
     "end_time": "2021-06-29T09:03:19.933238",
     "exception": false,
     "start_time": "2021-06-29T09:03:19.777227",
     "status": "completed"
    },
    "tags": []
   },
   "outputs": [
    {
     "name": "stdout",
     "output_type": "stream",
     "text": [
      "              precision    recall  f1-score   support\n",
      "\n",
      "           0       0.73      1.00      0.85      1033\n",
      "           1       0.00      0.00      0.00       374\n",
      "\n",
      "    accuracy                           0.73      1407\n",
      "   macro avg       0.37      0.50      0.42      1407\n",
      "weighted avg       0.54      0.73      0.62      1407\n",
      "\n"
     ]
    }
   ],
   "source": [
    "print(classification_report(y_test, predict_y))"
   ]
  },
  {
   "cell_type": "markdown",
   "id": "green-boating",
   "metadata": {
    "papermill": {
     "duration": 0.13955,
     "end_time": "2021-06-29T09:03:20.212421",
     "exception": false,
     "start_time": "2021-06-29T09:03:20.072871",
     "status": "completed"
    },
    "tags": []
   },
   "source": [
    "<a id = \"103\" ></a>\n",
    "#### <b> Random Forest</b>\n",
    "<a id = \"rf\" ></a>"
   ]
  },
  {
   "cell_type": "code",
   "execution_count": 56,
   "id": "victorian-springer",
   "metadata": {
    "execution": {
     "iopub.execute_input": "2021-06-29T09:03:20.503556Z",
     "iopub.status.busy": "2021-06-29T09:03:20.502849Z",
     "iopub.status.idle": "2021-06-29T09:03:22.792626Z",
     "shell.execute_reply": "2021-06-29T09:03:22.791999Z",
     "shell.execute_reply.started": "2021-06-29T08:55:32.341397Z"
    },
    "papermill": {
     "duration": 2.4373,
     "end_time": "2021-06-29T09:03:22.792785",
     "exception": false,
     "start_time": "2021-06-29T09:03:20.355485",
     "status": "completed"
    },
    "tags": []
   },
   "outputs": [
    {
     "name": "stdout",
     "output_type": "stream",
     "text": [
      "0.7924662402274343\n"
     ]
    }
   ],
   "source": [
    "\n",
    "model_rf = RandomForestClassifier(n_estimators=500, oob_score=True, n_jobs=-1,\n",
    "                                  random_state=50, max_features='sqrt',\n",
    "                                  max_leaf_nodes=30)\n",
    "\n",
    "model_rf.fit(X_train, y_train)\n",
    "\n",
    "# Make predictions\n",
    "prediction_test = model_rf.predict(X_test)\n",
    "print (metrics.accuracy_score(y_test, prediction_test))"
   ]
  },
  {
   "cell_type": "code",
   "execution_count": 57,
   "id": "promotional-prescription",
   "metadata": {
    "execution": {
     "iopub.execute_input": "2021-06-29T09:03:23.077820Z",
     "iopub.status.busy": "2021-06-29T09:03:23.077141Z",
     "iopub.status.idle": "2021-06-29T09:03:23.089014Z",
     "shell.execute_reply": "2021-06-29T09:03:23.088364Z",
     "shell.execute_reply.started": "2021-06-29T08:59:03.524077Z"
    },
    "papermill": {
     "duration": 0.154997,
     "end_time": "2021-06-29T09:03:23.089165",
     "exception": false,
     "start_time": "2021-06-29T09:03:22.934168",
     "status": "completed"
    },
    "tags": []
   },
   "outputs": [
    {
     "name": "stdout",
     "output_type": "stream",
     "text": [
      "              precision    recall  f1-score   support\n",
      "\n",
      "           0       0.82      0.92      0.87      1033\n",
      "           1       0.66      0.45      0.53       374\n",
      "\n",
      "    accuracy                           0.79      1407\n",
      "   macro avg       0.74      0.68      0.70      1407\n",
      "weighted avg       0.78      0.79      0.78      1407\n",
      "\n"
     ]
    }
   ],
   "source": [
    "print(classification_report(y_test, prediction_test))"
   ]
  },
  {
   "cell_type": "code",
   "execution_count": 58,
   "id": "democratic-salmon",
   "metadata": {
    "execution": {
     "iopub.execute_input": "2021-06-29T09:03:23.374652Z",
     "iopub.status.busy": "2021-06-29T09:03:23.373988Z",
     "iopub.status.idle": "2021-06-29T09:03:23.615200Z",
     "shell.execute_reply": "2021-06-29T09:03:23.614679Z",
     "shell.execute_reply.started": "2021-06-29T08:55:34.744032Z"
    },
    "papermill": {
     "duration": 0.385771,
     "end_time": "2021-06-29T09:03:23.615349",
     "exception": false,
     "start_time": "2021-06-29T09:03:23.229578",
     "status": "completed"
    },
    "tags": []
   },
   "outputs": [
    {
     "data": {
      "image/png": "[encoded data removed]",
      "text/plain": [
       "<Figure size 400x300 with 2 Axes>"
      ]
     },
     "metadata": {},
     "output_type": "display_data"
    }
   ],
   "source": [
    "plt.figure(figsize=(4,3))\n",
    "sns.heatmap(confusion_matrix(y_test, prediction_test),\n",
    "                annot=True,fmt = \"d\",linecolor=\"k\",linewidths=3)\n",
    "    \n",
    "plt.title(\" RANDOM FOREST CONFUSION MATRIX\",fontsize=14)\n",
    "plt.show()"
   ]
  },
  {
   "cell_type": "code",
   "execution_count": 38,
   "id": "stopped-modem",
   "metadata": {
    "execution": {
     "iopub.execute_input": "2021-06-29T09:03:23.907887Z",
     "iopub.status.busy": "2021-06-29T09:03:23.906872Z",
     "iopub.status.idle": "2021-06-29T09:03:24.255659Z",
     "shell.execute_reply": "2021-06-29T09:03:24.256170Z",
     "shell.execute_reply.started": "2021-06-29T08:55:34.983073Z"
    },
    "papermill": {
     "duration": 0.49813,
     "end_time": "2021-06-29T09:03:24.256355",
     "exception": false,
     "start_time": "2021-06-29T09:03:23.758225",
     "status": "completed"
    },
    "tags": []
   },
   "outputs": [
    {
     "data": {
      "image/png": "[encoded data removed]",
      "text/plain": [
       "<Figure size 640x480 with 1 Axes>"
      ]
     },
     "metadata": {},
     "output_type": "display_data"
    }
   ],
   "source": [
    "y_rfpred_prob = model_rf.predict_proba(X_test)[:,1]\n",
    "fpr_rf, tpr_rf, thresholds = roc_curve(y_test, y_rfpred_prob)\n",
    "plt.plot([0, 1], [0, 1], 'k--' )\n",
    "plt.plot(fpr_rf, tpr_rf, label='Random Forest',color = \"r\")\n",
    "plt.xlabel('False Positive Rate')\n",
    "plt.ylabel('True Positive Rate')\n",
    "plt.title('Random Forest ROC Curve',fontsize=16)\n",
    "plt.show();"
   ]
  },
  {
   "cell_type": "markdown",
   "id": "smoking-signature",
   "metadata": {
    "papermill": {
     "duration": 0.141303,
     "end_time": "2021-06-29T09:03:24.539724",
     "exception": false,
     "start_time": "2021-06-29T09:03:24.398421",
     "status": "completed"
    },
    "tags": []
   },
   "source": [
    "<a id = \"104\" ></a>\n",
    "#### <b>Logistic Regression</b>\n",
    "<a id = \"lr\" ></a>"
   ]
  },
  {
   "cell_type": "code",
   "execution_count": 39,
   "id": "applied-roots",
   "metadata": {
    "execution": {
     "iopub.execute_input": "2021-06-29T09:03:24.829506Z",
     "iopub.status.busy": "2021-06-29T09:03:24.828770Z",
     "iopub.status.idle": "2021-06-29T09:03:24.936666Z",
     "shell.execute_reply": "2021-06-29T09:03:24.937501Z",
     "shell.execute_reply.started": "2021-06-29T08:55:35.332050Z"
    },
    "papermill": {
     "duration": 0.25558,
     "end_time": "2021-06-29T09:03:24.937971",
     "exception": false,
     "start_time": "2021-06-29T09:03:24.682391",
     "status": "completed"
    },
    "tags": []
   },
   "outputs": [
    {
     "name": "stdout",
     "output_type": "stream",
     "text": [
      "Logistic Regression accuracy is : 0.7825159914712153\n"
     ]
    }
   ],
   "source": [
    "lr_model = LogisticRegression()\n",
    "lr_model.fit(X_train,y_train)\n",
    "accuracy_lr = lr_model.score(X_test,y_test)\n",
    "print(\"Logistic Regression accuracy is :\",accuracy_lr)"
   ]
  },
  {
   "cell_type": "code",
   "execution_count": 40,
   "id": "played-green",
   "metadata": {
    "execution": {
     "iopub.execute_input": "2021-06-29T09:03:25.280286Z",
     "iopub.status.busy": "2021-06-29T09:03:25.279253Z",
     "iopub.status.idle": "2021-06-29T09:03:25.298716Z",
     "shell.execute_reply": "2021-06-29T09:03:25.300066Z",
     "shell.execute_reply.started": "2021-06-29T08:55:35.410441Z"
    },
    "papermill": {
     "duration": 0.169373,
     "end_time": "2021-06-29T09:03:25.300427",
     "exception": false,
     "start_time": "2021-06-29T09:03:25.131054",
     "status": "completed"
    },
    "tags": []
   },
   "outputs": [
    {
     "name": "stdout",
     "output_type": "stream",
     "text": [
      "              precision    recall  f1-score   support\n",
      "\n",
      "           0       0.83      0.88      0.86      1033\n",
      "           1       0.61      0.50      0.55       374\n",
      "\n",
      "    accuracy                           0.78      1407\n",
      "   macro avg       0.72      0.69      0.70      1407\n",
      "weighted avg       0.77      0.78      0.78      1407\n",
      "\n"
     ]
    }
   ],
   "source": [
    "lr_pred= lr_model.predict(X_test)\n",
    "report = classification_report(y_test,lr_pred)\n",
    "print(report)"
   ]
  },
  {
   "cell_type": "code",
   "execution_count": 41,
   "id": "confidential-valuation",
   "metadata": {
    "execution": {
     "iopub.execute_input": "2021-06-29T09:03:25.635811Z",
     "iopub.status.busy": "2021-06-29T09:03:25.634881Z",
     "iopub.status.idle": "2021-06-29T09:03:25.884151Z",
     "shell.execute_reply": "2021-06-29T09:03:25.883566Z",
     "shell.execute_reply.started": "2021-06-29T08:55:35.444640Z"
    },
    "papermill": {
     "duration": 0.397762,
     "end_time": "2021-06-29T09:03:25.884306",
     "exception": false,
     "start_time": "2021-06-29T09:03:25.486544",
     "status": "completed"
    },
    "tags": []
   },
   "outputs": [
    {
     "data": {
      "image/png": "[encoded data removed]",
      "text/plain": [
       "<Figure size 400x300 with 2 Axes>"
      ]
     },
     "metadata": {},
     "output_type": "display_data"
    }
   ],
   "source": [
    "plt.figure(figsize=(4,3))\n",
    "sns.heatmap(confusion_matrix(y_test, lr_pred),\n",
    "                annot=True,fmt = \"d\",linecolor=\"k\",linewidths=3)\n",
    "    \n",
    "plt.title(\"LOGISTIC REGRESSION CONFUSION MATRIX\",fontsize=14)\n",
    "plt.show()"
   ]
  },
  {
   "cell_type": "code",
   "execution_count": 42,
   "id": "engaged-examination",
   "metadata": {
    "execution": {
     "iopub.execute_input": "2021-06-29T09:03:26.206551Z",
     "iopub.status.busy": "2021-06-29T09:03:26.205546Z",
     "iopub.status.idle": "2021-06-29T09:03:26.416077Z",
     "shell.execute_reply": "2021-06-29T09:03:26.415570Z",
     "shell.execute_reply.started": "2021-06-29T08:55:35.715037Z"
    },
    "papermill": {
     "duration": 0.3681,
     "end_time": "2021-06-29T09:03:26.416228",
     "exception": false,
     "start_time": "2021-06-29T09:03:26.048128",
     "status": "completed"
    },
    "tags": []
   },
   "outputs": [
    {
     "data": {
      "image/png": "[encoded data removed]",
      "text/plain": [
       "<Figure size 640x480 with 1 Axes>"
      ]
     },
     "metadata": {},
     "output_type": "display_data"
    }
   ],
   "source": [
    "y_pred_prob = lr_model.predict_proba(X_test)[:,1]\n",
    "fpr, tpr, thresholds = roc_curve(y_test, y_pred_prob)\n",
    "plt.plot([0, 1], [0, 1], 'k--' )\n",
    "plt.plot(fpr, tpr, label='Logistic Regression',color = \"r\")\n",
    "plt.xlabel('False Positive Rate')\n",
    "plt.ylabel('True Positive Rate')\n",
    "plt.title('Logistic Regression ROC Curve',fontsize=16)\n",
    "plt.show();"
   ]
  },
  {
   "cell_type": "markdown",
   "id": "patent-reynolds",
   "metadata": {
    "papermill": {
     "duration": 0.144826,
     "end_time": "2021-06-29T09:03:26.704677",
     "exception": false,
     "start_time": "2021-06-29T09:03:26.559851",
     "status": "completed"
    },
    "tags": []
   },
   "source": [
    "<a id = \"105\" ></a>\n",
    "#### **Decision Tree Classifier**\n",
    "<a id = \"dtc\" ></a>"
   ]
  },
  {
   "cell_type": "code",
   "execution_count": 43,
   "id": "developing-screw",
   "metadata": {
    "execution": {
     "iopub.execute_input": "2021-06-29T09:03:27.003355Z",
     "iopub.status.busy": "2021-06-29T09:03:27.002323Z",
     "iopub.status.idle": "2021-06-29T09:03:27.036210Z",
     "shell.execute_reply": "2021-06-29T09:03:27.036891Z",
     "shell.execute_reply.started": "2021-06-29T09:00:45.625832Z"
    },
    "papermill": {
     "duration": 0.187343,
     "end_time": "2021-06-29T09:03:27.037155",
     "exception": false,
     "start_time": "2021-06-29T09:03:26.849812",
     "status": "completed"
    },
    "tags": []
   },
   "outputs": [
    {
     "name": "stdout",
     "output_type": "stream",
     "text": [
      "Decision Tree accuracy is : 0.7221037668798863\n"
     ]
    }
   ],
   "source": [
    "dt_model = DecisionTreeClassifier()\n",
    "dt_model.fit(X_train,y_train)\n",
    "predictdt_y = dt_model.predict(X_test)\n",
    "accuracy_dt = dt_model.score(X_test,y_test)\n",
    "print(\"Decision Tree accuracy is :\",accuracy_dt)"
   ]
  },
  {
   "cell_type": "markdown",
   "id": "instant-winner",
   "metadata": {
    "papermill": {
     "duration": 0.144677,
     "end_time": "2021-06-29T09:03:27.326156",
     "exception": false,
     "start_time": "2021-06-29T09:03:27.181479",
     "status": "completed"
    },
    "tags": []
   },
   "source": [
    "Decision tree gives very low score."
   ]
  },
  {
   "cell_type": "code",
   "execution_count": 44,
   "id": "powerful-advance",
   "metadata": {
    "execution": {
     "iopub.execute_input": "2021-06-29T09:03:27.619910Z",
     "iopub.status.busy": "2021-06-29T09:03:27.618899Z",
     "iopub.status.idle": "2021-06-29T09:03:27.633488Z",
     "shell.execute_reply": "2021-06-29T09:03:27.632554Z",
     "shell.execute_reply.started": "2021-06-29T09:00:56.663959Z"
    },
    "papermill": {
     "duration": 0.162042,
     "end_time": "2021-06-29T09:03:27.633687",
     "exception": false,
     "start_time": "2021-06-29T09:03:27.471645",
     "status": "completed"
    },
    "tags": []
   },
   "outputs": [
    {
     "name": "stdout",
     "output_type": "stream",
     "text": [
      "              precision    recall  f1-score   support\n",
      "\n",
      "           0       0.82      0.80      0.81      1033\n",
      "           1       0.48      0.52      0.50       374\n",
      "\n",
      "    accuracy                           0.72      1407\n",
      "   macro avg       0.65      0.66      0.65      1407\n",
      "weighted avg       0.73      0.72      0.73      1407\n",
      "\n"
     ]
    }
   ],
   "source": [
    "print(classification_report(y_test, predictdt_y))"
   ]
  },
  {
   "cell_type": "markdown",
   "id": "fd55681b",
   "metadata": {},
   "source": [
    "Relationship between multiple accuracies"
   ]
  },
  {
   "cell_type": "code",
   "execution_count": 45,
   "id": "e6d95add",
   "metadata": {},
   "outputs": [
    {
     "data": {
      "image/png": "[encoded data removed]",
      "text/plain": [
       "<Figure size 1000x600 with 1 Axes>"
      ]
     },
     "metadata": {},
     "output_type": "display_data"
    }
   ],
   "source": [
    "import matplotlib.pyplot as plt\n",
    "\n",
    "# Model names\n",
    "models = ['KNN', 'SVC', 'Random Forest', 'Logistic Regression', 'Decision Tree']\n",
    "\n",
    "# Corresponding accuracies\n",
    "accuracies = [0.704, 0.800, 0.793, 0.730, 0.704]\n",
    "\n",
    "# Plotting the bar plot\n",
    "plt.figure(figsize=(10, 6))\n",
    "plt.bar(models, accuracies, color=['blue', 'orange', 'green', 'red', 'purple'])\n",
    "\n",
    "# Adding labels and title\n",
    "plt.xlabel('Models')\n",
    "plt.ylabel('Accuracy')\n",
    "plt.title('Accuracy of Different Models')\n",
    "plt.ylim(0, 1)  # Set the y-axis limit from 0 to 1\n",
    "plt.xticks(rotation=45)  # Rotate x-axis labels for better readability\n",
    "\n",
    "# Displaying the plot\n",
    "plt.show()\n"
   ]
  },
  {
   "cell_type": "code",
   "execution_count": null,
   "id": "2259797e",
   "metadata": {},
   "outputs": [],
   "source": []
  }
 ],
 "metadata": {
  "kernelspec": {
   "display_name": "Python 3 (ipykernel)",
   "language": "python",
   "name": "python3"
  },
  "language_info": {
   "codemirror_mode": {
    "name": "ipython",
    "version": 3
   },
   "file_extension": ".py",
   "mimetype": "text/x-python",
   "name": "python",
   "nbconvert_exporter": "python",
   "pygments_lexer": "ipython3",
   "version": "3.11.5"
  },
  "papermill": {
   "default_parameters": {},
   "duration": 60.005711,
   "end_time": "2021-06-29T09:03:36.232671",
   "environment_variables": {},
   "exception": null,
   "input_path": "__notebook__.ipynb",
   "output_path": "__notebook__.ipynb",
   "parameters": {},
   "start_time": "2021-06-29T09:02:36.226960",
   "version": "2.3.3"
  }
 },
 "nbformat": 4,
 "nbformat_minor": 5
}
